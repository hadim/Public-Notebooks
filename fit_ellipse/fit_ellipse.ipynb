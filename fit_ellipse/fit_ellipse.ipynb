{
 "cells": [
  {
   "cell_type": "markdown",
   "metadata": {},
   "source": [
    "# What is the image moment (or how to fit and ellipse)\n",
    "\n",
    "A moment (M) is a specific quantitative measure of a given distribution. The distribution can be one or multi-dimensional ([wikipedia definition](https://en.wikipedia.org/wiki/Moment_(mathematics)).\n",
    "\n",
    "Now let's try to have an intuitive view of what it is in the case of an image.\n",
    "\n",
    "Remember that an image is only a 2D distribution of a set of points. Each point being localized by two coordinates $x$ and $y$. So fo each pixel we have the following $f(x, y) = I_{x, y}$. Where $I_{x, y}$ corresponds to the intensity at the coordinate $x$ and $y$. \n",
    "\n",
    "Before going to intuition let's do some easy math. The formal definition of the image moment (2D and continuous) is:\n",
    "\n",
    "$$M_{pq} = \\int_{-\\infty}^{\\infty} x^p y^q f(x, y) dx dy$$\n",
    "\n",
    "And the 2D discrete equation is : \n",
    "\n",
    "$$M_{pq} = \\sum_x \\sum_y x^p y^q I(x,y)$$\n",
    "\n",
    "So we see here the moment (M) depends on two parameters $p$ and $q$. They are called **the order** of the moment. Different order will give a different **measure** of the distribution we are looking at.\n",
    "\n",
    "For example let's define a simple 1D distribution of length $N$ $f(x) = A$.\n",
    "\n",
    "- the zero order ($p=0$) moment of $A$ is **the number of element** : $M_0 = \\sum_x x^0 = len(A)$ (for pythonist)\n",
    "- the first order ($p=1$) moment of a $A$ if the **sum** of all the element : $M_1 = \\sum_x x^1 = np.sum(A)$ (for pythonist)\n",
    "\n",
    "Now if we divide the first order moment by the zero order moment we have the mean : \n",
    "\n",
    "$$\\bar{A} = \\frac{1}{N} \\sum_x x = \\frac{M_1}{M_0}$$"
   ]
  },
  {
   "cell_type": "markdown",
   "metadata": {},
   "source": [
    "## The image moment \n",
    "\n",
    "Now let's try to apply this 1D example to an image."
   ]
  },
  {
   "cell_type": "code",
   "execution_count": 28,
   "metadata": {
    "collapsed": true
   },
   "outputs": [],
   "source": [
    "# Do some import\n",
    "%matplotlib inline\n",
    "import matplotlib.pyplot as plt\n",
    "import numpy as np\n",
    "from tifffile import TiffFile"
   ]
  },
  {
   "cell_type": "code",
   "execution_count": 48,
   "metadata": {
    "collapsed": false
   },
   "outputs": [
    {
     "name": "stdout",
     "output_type": "stream",
     "text": [
      "[0 1]\n"
     ]
    },
    {
     "data": {
      "image/png": "[encoded data removed]",
      "text/plain": [
       "<matplotlib.figure.Figure at 0x7f30b03ddf60>"
      ]
     },
     "metadata": {},
     "output_type": "display_data"
    }
   ],
   "source": [
    "# Load the image\n",
    "tf = TiffFile(\"binary_cell.tif\")\n",
    "\n",
    "# Get the numpy array\n",
    "a = tf.asarray()\n",
    "\n",
    "# Replace all 255 to 1 so the image is now made of \"0\" and \"1\"\n",
    "a[a == 255] = 1\n",
    "print(np.unique(a))\n",
    "\n",
    "_ = plt.imshow(a, interpolation=\"none\", cmap=\"gray\", origin='lower')"
   ]
  },
  {
   "cell_type": "markdown",
   "metadata": {},
   "source": [
    "The goal here is to use the image moment to **fit an ellipse**. The ellipse can be defined by four parameters : the center, the orientation, the major axis and the minor axis.\n",
    "\n",
    "Note it exists many different method to fit an ellipse.\n",
    "\n",
    "### Find the centroid\n",
    "\n",
    "First we are going to detect the centroid (the center of the ellipse) of our object by computing the zero and first order of the image.\n",
    "\n",
    "Remember the discrete equation : \n",
    "\n",
    "$$M_{pq} = \\sum_x \\sum_y x^p y^q I(x,y)$$\n",
    "\n",
    "Since we are working on a binary image (only $0$ and $1$) values we remove $I(x,y)$."
   ]
  },
  {
   "cell_type": "markdown",
   "metadata": {},
   "source": [
    "The zero order moment is then :\n",
    "\n",
    "$$M_{00} = \\sum_x \\sum_y x^0 y^0$$\n",
    "\n",
    "\n",
    "Let's do it in python."
   ]
  },
  {
   "cell_type": "code",
   "execution_count": 49,
   "metadata": {
    "collapsed": false
   },
   "outputs": [
    {
     "data": {
      "text/plain": [
       "142369"
      ]
     },
     "execution_count": 49,
     "metadata": {},
     "output_type": "execute_result"
    }
   ],
   "source": [
    "# The sum of all value of 1\n",
    "M_00 = np.sum(a)\n",
    "M_00"
   ]
  },
  {
   "cell_type": "markdown",
   "metadata": {},
   "source": [
    "Now let's compute the first order moment for $x$ :\n",
    "\n",
    "$$M_{10} = \\sum_x \\sum_y x^1 y^0$$"
   ]
  },
  {
   "cell_type": "code",
   "execution_count": 50,
   "metadata": {
    "collapsed": false
   },
   "outputs": [
    {
     "data": {
      "text/plain": [
       "46616805"
      ]
     },
     "execution_count": 50,
     "metadata": {},
     "output_type": "execute_result"
    }
   ],
   "source": [
    "# Here we get all the coordinates of pixel equal to 1\n",
    "xx, yy = np.where(a == 1)\n",
    "\n",
    "M_10 = np.sum(xx)\n",
    "M_10"
   ]
  },
  {
   "cell_type": "markdown",
   "metadata": {},
   "source": [
    "Now let's compute the first order moment for $y$ :"
   ]
  },
  {
   "cell_type": "code",
   "execution_count": 51,
   "metadata": {
    "collapsed": false
   },
   "outputs": [
    {
     "data": {
      "text/plain": [
       "48021475"
      ]
     },
     "execution_count": 51,
     "metadata": {},
     "output_type": "execute_result"
    }
   ],
   "source": [
    "M_01 = np.sum(yy)\n",
    "M_01"
   ]
  },
  {
   "cell_type": "markdown",
   "metadata": {},
   "source": [
    "So the centroid $C$ is given by :\n",
    "\n",
    "\n",
    "$$C_x = \\bar{x} = \\frac{M_{10}}{M_{00}}$$\n",
    "\n",
    "$$C_y = \\bar{y} = \\frac{M_{01}}{M_{00}}$$"
   ]
  },
  {
   "cell_type": "code",
   "execution_count": 68,
   "metadata": {
    "collapsed": false
   },
   "outputs": [
    {
     "name": "stdout",
     "output_type": "stream",
     "text": [
      "C = (327.43648547085388, 337.30288897161603)\n"
     ]
    }
   ],
   "source": [
    "C_x = M_10 / M_00\n",
    "C_y = M_01 / M_00\n",
    "print(\"C =\", (C_x, C_y))"
   ]
  },
  {
   "cell_type": "markdown",
   "metadata": {},
   "source": [
    "Let's verify it visually :"
   ]
  },
  {
   "cell_type": "code",
   "execution_count": 69,
   "metadata": {
    "collapsed": false
   },
   "outputs": [
    {
     "data": {
      "image/png": "[encoded data removed]",
      "text/plain": [
       "<matplotlib.figure.Figure at 0x7f30b0537390>"
      ]
     },
     "metadata": {},
     "output_type": "display_data"
    }
   ],
   "source": [
    "plt.scatter(C_x, C_y, color='red', marker='+', s=100)\n",
    "_ = plt.imshow(a, interpolation=\"none\", cmap=\"gray\", origin='lower')"
   ]
  },
  {
   "cell_type": "markdown",
   "metadata": {},
   "source": [
    "Well it seems to be exact !\n",
    "\n",
    "### Find the major and minor axis\n",
    "\n",
    "Here it becomes a little bit tricky.\n",
    "\n",
    "The information about the object orientation can be derived using the **second order central moments** to construct a **covariance matrix** (see [Wikipedia](https://en.wikipedia.org/wiki/Image_moment) for more details).\n",
    "\n",
    "Here is a new concept : **central moment** ($\\mu$) which describes **distribution of mean** (unlike moment (M) which describes distribution only).\n",
    "\n",
    "Note that sometime moment is also called **raw moment**.\n",
    "\n",
    "The discrete equation of the central moment is the : \n",
    "\n",
    "$$\\mu_{pq} = \\sum_{x} \\sum_{y} (x - \\bar{x})^p(y - \\bar{y})^q f(x,y)$$\n",
    "\n",
    "with $\\bar{x}=\\frac{M_{10}}{M_{00}}$ and $\\bar{y}=\\frac{M_{01}}{M_{00}}$\n",
    "\n",
    "Now it becomes difficult to get the intuition of what's going next. From [Wikipedia](https://en.wikipedia.org/wiki/Image_moment) :  \n",
    "\n",
    "> The covariance matrix of the image $I(x,y)$ is :\n",
    "\n",
    "> $$\\operatorname{cov}[I(x,y)] = \\begin{bmatrix} \\mu'_{20}  & \\mu'_{11} \\\\ \\mu'_{11} & \\mu'_{02} \\end{bmatrix}$$\n",
    "\n",
    "> The eigenvectors of the covariance matrix of the image correspond to the **major** and **minor** axes of the image intensity, so the orientation can thus be extracted from the **angle of the eigenvector** associated with the **largest eigenvalue**. It can be shown that this angle Θ is given by the following formula:\n",
    "\n",
    "> $$\\Theta = \\frac{1}{2} \\arctan \\left( \\frac{2\\mu'_{11}}{\\mu'_{20} - \\mu'_{02}} \\right)$$\n",
    "\n",
    "> Where :\n",
    "\n",
    "> $$\\mu'_{20} = \\mu_{20} / \\mu_{00} = M_{20}/M_{00} - \\bar{x}^2$$\n",
    "> $$\\mu'_{02} = \\mu_{02} / \\mu_{00} = M_{02}/M_{00} - \\bar{y}^2$$\n",
    "> $$\\mu'_{11} = \\mu_{11} / \\mu_{00} = M_{11}/M_{00} - \\bar{x}\\bar{y}$$"
   ]
  },
  {
   "cell_type": "markdown",
   "metadata": {},
   "source": [
    "Let's first compute the second order raw moment ($M_{20}$, $M_{02}$ and $M_{11}$) : "
   ]
  },
  {
   "cell_type": "code",
   "execution_count": 70,
   "metadata": {
    "collapsed": true
   },
   "outputs": [],
   "source": [
    "M_20 = np.sum(xx ** 2)\n",
    "M_02 = np.sum(yy ** 2)\n",
    "M_11 = np.sum(xx * yy)"
   ]
  },
  {
   "cell_type": "markdown",
   "metadata": {},
   "source": [
    "Compute $\\mu'_{20}$, $\\mu'_{02}$ and $\\mu'_{11}$ :"
   ]
  },
  {
   "cell_type": "code",
   "execution_count": 71,
   "metadata": {
    "collapsed": true
   },
   "outputs": [],
   "source": [
    "mu_20 = M_20 / M_00 - C_x ** 2\n",
    "mu_02 = M_20 / M_00 - C_y ** 2\n",
    "mu_11 = M_11 / M_00 - C_x * C_y"
   ]
  },
  {
   "cell_type": "markdown",
   "metadata": {},
   "source": [
    "Get the **orientation** $\\Theta$ : \n",
    "\n",
    "$$\\Theta = \\frac{1}{2} \\arctan \\left( \\frac{2\\mu'_{11}}{\\mu'_{20} - \\mu'_{02}} \\right)$$"
   ]
  },
  {
   "cell_type": "code",
   "execution_count": 72,
   "metadata": {
    "collapsed": false
   },
   "outputs": [
    {
     "name": "stdout",
     "output_type": "stream",
     "text": [
      "angle = -36.72080335329064°\n"
     ]
    }
   ],
   "source": [
    "theta = 1/2 * np.arctan((2 * mu_11) / (mu_20 - mu_02))\n",
    "\n",
    "# Convert it in degree\n",
    "angle = np.rad2deg(theta)\n",
    "print(\"angle = {}°\".format(angle))"
   ]
  },
  {
   "cell_type": "markdown",
   "metadata": {},
   "source": [
    "Get the eigenvalues with this equation : \n",
    "\n",
    "$$\\Delta = \\sqrt{4{\\mu'}_{11}^2 + ({\\mu'}_{20}-{\\mu'}_{02})^2}$$\n",
    "$$\\lambda_i = \\frac{\\mu'_{20} + \\mu'_{02}}{2}  \\pm \\frac{\\Delta}{2}$$"
   ]
  },
  {
   "cell_type": "code",
   "execution_count": 73,
   "metadata": {
    "collapsed": false
   },
   "outputs": [],
   "source": [
    "delta = np.sqrt(4 * mu_11 ** 2 + (mu_20 - mu_02) ** 2)\n",
    "\n",
    "lambda_1 = ((mu_20 + mu_02) + delta) / 2\n",
    "lambda_2 = ((mu_20 + mu_02) - delta) / 2"
   ]
  },
  {
   "cell_type": "markdown",
   "metadata": {},
   "source": [
    "Get the major and minor axes from the eigenvalues : "
   ]
  },
  {
   "cell_type": "code",
   "execution_count": 74,
   "metadata": {
    "collapsed": false
   },
   "outputs": [
    {
     "name": "stdout",
     "output_type": "stream",
     "text": [
      "Major axis = 590.4638690697747\n",
      "Minor axis = 139.87004447009642\n"
     ]
    }
   ],
   "source": [
    "semi_major_length = np.sqrt(np.abs(lambda_1)) * 2\n",
    "semi_minor_length = np.sqrt(np.abs(lambda_2)) * 2\n",
    "\n",
    "major_length = semi_major_length * 2\n",
    "minor_length = semi_minor_length * 2\n",
    "\n",
    "print(\"Major axis = {}\".format(major_length))\n",
    "print(\"Minor axis = {}\".format(minor_length))"
   ]
  },
  {
   "cell_type": "markdown",
   "metadata": {},
   "source": [
    "Alternatively we can also compute (with Numpy) the **orientation** and **axes length** from the eigenvectors of the covariance matrix.\n",
    "\n",
    "$$\\operatorname{cov}[I(x,y)] = \\begin{bmatrix} \\mu'_{20}  & \\mu'_{11} \\\\ \\mu'_{11} & \\mu'_{02} \\end{bmatrix}$$"
   ]
  },
  {
   "cell_type": "code",
   "execution_count": 75,
   "metadata": {
    "collapsed": false
   },
   "outputs": [],
   "source": [
    "cov = np.asarray([[mu_20, mu_11],\n",
    "                  [mu_11, mu_02]])\n",
    "eigvalues, eigvectors = np.linalg.eig(cov)\n",
    "\n",
    "# Get the associated eigenvectors and eigenvalues\n",
    "eigval_1, eigval_2 = eigvalues\n",
    "eigvec_1, eigvec_2 = eigvectors[:, 0], eigvectors[:, 1]"
   ]
  },
  {
   "cell_type": "markdown",
   "metadata": {},
   "source": [
    "Get the orientation from the **first eigenvector** with $ \\Theta = \\operatorname{atan2}(y, x) \\quad$ and the **axes length** from the **eigenvalues**."
   ]
  },
  {
   "cell_type": "code",
   "execution_count": 76,
   "metadata": {
    "collapsed": false
   },
   "outputs": [
    {
     "name": "stdout",
     "output_type": "stream",
     "text": [
      "angle = -36.72080335329064°\n",
      "Major axis = 590.4638690697747\n",
      "Minor axis = 139.87004447009653\n"
     ]
    }
   ],
   "source": [
    "theta = np.arctan2(eigvec_1[1], eigvec_1[0])\n",
    "angle = np.rad2deg(theta)\n",
    "print(\"angle = {}°\".format(angle))\n",
    "\n",
    "semi_major_length = np.sqrt(np.abs(eigval_1)) * 2\n",
    "semi_minor_length = np.sqrt(np.abs(eigval_2)) * 2\n",
    "\n",
    "major_length = semi_major_length * 2\n",
    "minor_length = semi_minor_length * 2\n",
    "print(\"Major axis = {}\".format(major_length))\n",
    "print(\"Minor axis = {}\".format(minor_length))"
   ]
  },
  {
   "cell_type": "markdown",
   "metadata": {},
   "source": [
    "We find the **same value** as above. "
   ]
  },
  {
   "cell_type": "markdown",
   "metadata": {},
   "source": [
    "Now let's see how our vector looks (which is supposed to define the major orientation of our object)."
   ]
  },
  {
   "cell_type": "code",
   "execution_count": 77,
   "metadata": {
    "collapsed": false
   },
   "outputs": [
    {
     "data": {
      "image/png": "[encoded data removed]",
      "text/plain": [
       "<matplotlib.figure.Figure at 0x7f30b0268358>"
      ]
     },
     "metadata": {},
     "output_type": "display_data"
    }
   ],
   "source": [
    "plt.figure()\n",
    "\n",
    "# Plot the centroid in red\n",
    "plt.scatter(C_x, C_y, color='red', marker='+', s=100)\n",
    "\n",
    "# Plot the first eigenvector\n",
    "scale = 100\n",
    "x1, x2 = [C_x, eigvec_1[0] * scale]\n",
    "y1, y2 = [C_y, eigvec_1[1] * scale]\n",
    "plt.arrow(x1, y1, x2, y2, color='green', lw=1, head_width=20)\n",
    "\n",
    "# Show the image\n",
    "_ = plt.imshow(a, interpolation=\"none\", cmap=\"gray\", origin='lower')"
   ]
  },
  {
   "cell_type": "markdown",
   "metadata": {},
   "source": [
    "The **orientation** seems to be correct."
   ]
  },
  {
   "cell_type": "markdown",
   "metadata": {},
   "source": [
    "Now we draw the major and minor axes."
   ]
  },
  {
   "cell_type": "code",
   "execution_count": 78,
   "metadata": {
    "collapsed": false
   },
   "outputs": [
    {
     "data": {
      "image/png": "[encoded data removed]",
      "text/plain": [
       "<matplotlib.figure.Figure at 0x7f30b05ffd68>"
      ]
     },
     "metadata": {},
     "output_type": "display_data"
    }
   ],
   "source": [
    "fig, ax = plt.subplots()\n",
    "\n",
    "# Plot the centroid in red\n",
    "ax.scatter(C_x, C_y, color='red', marker='+', s=100)\n",
    "\n",
    "# Plot the major axis\n",
    "x1 = C_x + semi_major_length * np.cos(theta)\n",
    "y1 = C_y + semi_major_length * np.sin(theta)\n",
    "x2 = C_x - semi_major_length * np.cos(theta)\n",
    "y2 = C_y - semi_major_length * np.sin(theta)\n",
    "ax.plot([x1, x2], [y1, y2], color='green', lw=1)\n",
    "\n",
    "# Plot the minor axis\n",
    "x1 = C_x + semi_minor_length * np.cos(theta + np.pi/2)\n",
    "y1 = C_y + semi_minor_length * np.sin(theta + np.pi/2)\n",
    "x2 = C_x - semi_minor_length * np.cos(theta + np.pi/2)\n",
    "y2 = C_y - semi_minor_length * np.sin(theta + np.pi/2)\n",
    "ax.plot([x1, x2], [y1, y2], color='green', lw=1)\n",
    "\n",
    "# Plot the ellipse\n",
    "angles = np.arange(0, 360, 1) * np.pi / 180\n",
    "x = 0.5 * major_length * np.cos(angles)\n",
    "y = 0.5 * minor_length * np.sin(angles)\n",
    "\n",
    "R = np.array([[np.cos(theta), -np.sin(theta)],\n",
    "             [np.sin(theta), np.cos(theta)]])\n",
    "\n",
    "x, y = np.dot(R, np.array([x, y]))\n",
    "x += C_x\n",
    "y += C_y\n",
    "ax.plot(x, y, lw=1, color='red')\n",
    "\n",
    "# Show the image\n",
    "_ = ax.imshow(a, interpolation=\"none\", cmap=\"gray\", origin='lower', aspect='equal')"
   ]
  },
  {
   "cell_type": "markdown",
   "metadata": {},
   "source": [
    "It seems to work but there is an underestimation of the axes length...\n",
    "\n",
    "The method is not exactly the same but this understimation does not appear in the [ImageJ/Fiji algoritm](http://imagej.nih.gov/ij/source/ij/process/EllipseFitter.java).\n",
    "\n",
    "Any modifications are welcome !"
   ]
  },
  {
   "cell_type": "markdown",
   "metadata": {},
   "source": [
    "## References\n",
    "\n",
    "Some links which help me : \n",
    "\n",
    "- Kieran F. Mulchrone, Kingshuk Roy Choudhury, Fitting an ellipse to an arbitrary shape: implications for strain analysis, Journal of Structural Geology, Volume 26, Issue 1, January 2004, Pages 143-153, ISSN 0191-8141. http://dx.doi.org/10.1016/S0191-8141(03)00093-2\n",
    "- https://en.wikipedia.org/wiki/Image_moment\n",
    "- https://github.com/shackenberg/Image-Moments-in-Python/blob/master/moments.py\n",
    "- http://imagej.nih.gov/ij/source/ij/process/EllipseFitter.java\n",
    "- http://imagej.1557.x6.nabble.com/Ellipse-fitting-algorithm-used-by-ImageJ-td3686611.html\n",
    "\n",
    "Another method to detect ellipse : \n",
    "\n",
    "- Xie, Y. X. Y., & Ji, Q. J. Q. (2002). A new efficient ellipse detection method. Object Recognition Supported by User Interaction for Service Robots, 2(c), 0–3. http://doi.org/10.1109/ICPR.2002.1048464"
   ]
  }
 ],
 "metadata": {
  "kernelspec": {
   "display_name": "Python 3",
   "language": "python",
   "name": "python3"
  },
  "language_info": {
   "codemirror_mode": {
    "name": "ipython",
    "version": 3
   },
   "file_extension": ".py",
   "mimetype": "text/x-python",
   "name": "python",
   "nbconvert_exporter": "python",
   "pygments_lexer": "ipython3",
   "version": "3.4.3"
  }
 },
 "nbformat": 4,
 "nbformat_minor": 0
}
