{
 "cells": [
  {
   "cell_type": "markdown",
   "metadata": {},
   "source": [
    "# What is the image moment (or how to fit and ellipse)\n",
    "\n",
    "A moment (M) is a specific quantitative measure of a given distribution. The distribution can be one or multi-dimensional. That is the [wikipeda definition](https://en.wikipedia.org/wiki/Moment_(mathematics).\n",
    "\n",
    "Now let's try to have an intuitive view of what it is in the case of an image.\n",
    "\n",
    "Remember that an image is only a 2D distribution of a set of points. Each point being localized by two coordinates $x$ and $y$. So fo each pixel we have the following $f(x, y) = I_{x, y}$. Where $I_{x, y}$ corresponds to the intensity at the coordinate $x$ and $y$. \n",
    "\n",
    "Before going to intuition let's do some easy math. The formal definition of the image moment (2D and continuous) is:\n",
    "\n",
    "$$M_{pq} = \\int_{-\\infty}^{\\infty} x^p y^q f(x, y) dx dy$$\n",
    "\n",
    "And the 2D discrete equation is : \n",
    "\n",
    "$$M_{pq} = \\sum_x \\sum_y x^p y^q I(x,y)$$\n",
    "\n",
    "So we see here that the moment (M) depends on two parameters $p$ and $q$. They are called **the order** of the moment. Different order will give a different **measure** of the distribution we are looking at.\n",
    "\n",
    "For example let's define a simple 1D distribution of length $N$ $f(x) = A$.\n",
    "\n",
    "- the zero order ($p=0$) moment of $A$ is **the number of element** : $M_0 = \\sum_x x^0 = len(A)$ (for pythonist)\n",
    "- the first order ($p=1$) moment of a $A$ if the **sum** of all the element : $M_1 = \\sum_x x^1 = np.sum(A)$ (for pythonist)\n",
    "\n",
    "Now if we divide the first order moment by the zero order moment we have the mean : \n",
    "\n",
    "$$\\bar{A} = \\frac{1}{N} \\sum_x x = \\frac{M_1}{M_0}$$"
   ]
  },
  {
   "cell_type": "markdown",
   "metadata": {},
   "source": [
    "## The image moment \n",
    "\n",
    "Now let's try to apply this 1D example to an image."
   ]
  },
  {
   "cell_type": "code",
   "execution_count": 13,
   "metadata": {
    "collapsed": false
   },
   "outputs": [
    {
     "name": "stdout",
     "output_type": "stream",
     "text": [
      "[0 1]\n"
     ]
    },
    {
     "data": {
      "image/png": "[encoded data removed]",
      "text/plain": [
       "<matplotlib.figure.Figure at 0x7fc5809fc198>"
      ]
     },
     "metadata": {},
     "output_type": "display_data"
    }
   ],
   "source": [
    "# Do some import\n",
    "%matplotlib inline\n",
    "import matplotlib.pyplot as plt\n",
    "import numpy as np\n",
    "from tifffile import TiffFile\n",
    "\n",
    "# Load the image\n",
    "tf = TiffFile(\"binary_cell.tif\")\n",
    "\n",
    "# Get the numpy array\n",
    "a = tf.asarray()\n",
    "\n",
    "# Replace all 255 to 1 so the image is now made of \"0\" and \"1\"\n",
    "a[a == 255] = 1\n",
    "print(np.unique(a))\n",
    "\n",
    "_ = plt.imshow(a, interpolation=\"none\", cmap=\"gray\")"
   ]
  },
  {
   "cell_type": "markdown",
   "metadata": {},
   "source": [
    "The goal here is to use the image moment to **fit an ellipse**. The ellipse can be defined by three parameters : the center, the major axis and the minor axis.\n",
    "\n",
    "### Find the centroid\n",
    "\n",
    "First we are going to detect the centroid (the center of the ellipse) of our object by computing the zero and first order of the image.\n",
    "\n",
    "Remember the discrete equation : \n",
    "\n",
    "$$M_{pq} = \\sum_x \\sum_y x^p y^q I(x,y)$$\n",
    "\n",
    "Since we are working on a binary image (only $0$ and $1$) values we remove $I(x,y)$."
   ]
  },
  {
   "cell_type": "markdown",
   "metadata": {},
   "source": [
    "The zero order moment is then :\n",
    "\n",
    "$$M_{00} = \\sum_x \\sum_y x^0 y^0$$\n",
    "\n",
    "\n",
    "Let's do it in python."
   ]
  },
  {
   "cell_type": "code",
   "execution_count": 17,
   "metadata": {
    "collapsed": false
   },
   "outputs": [
    {
     "data": {
      "text/plain": [
       "142369"
      ]
     },
     "execution_count": 17,
     "metadata": {},
     "output_type": "execute_result"
    }
   ],
   "source": [
    "# The sum of all value of 1\n",
    "M_00 = np.sum(a)\n",
    "M_00"
   ]
  },
  {
   "cell_type": "markdown",
   "metadata": {},
   "source": [
    "Now let's compute the first order moment for $x$ :\n",
    "\n",
    "$$M_{10} = \\sum_x \\sum_y x^1 y^0$$"
   ]
  },
  {
   "cell_type": "code",
   "execution_count": 19,
   "metadata": {
    "collapsed": false
   },
   "outputs": [
    {
     "data": {
      "text/plain": [
       "46616805"
      ]
     },
     "execution_count": 19,
     "metadata": {},
     "output_type": "execute_result"
    }
   ],
   "source": [
    "# Here we get all the coordinates of pixel equal to 1\n",
    "xx, yy = np.where(a == 1)\n",
    "\n",
    "M_10 = np.sum(xx)\n",
    "M_10"
   ]
  },
  {
   "cell_type": "markdown",
   "metadata": {},
   "source": [
    "Now let's compute the first order moment for $y$ :"
   ]
  },
  {
   "cell_type": "code",
   "execution_count": 20,
   "metadata": {
    "collapsed": false
   },
   "outputs": [
    {
     "data": {
      "text/plain": [
       "48021475"
      ]
     },
     "execution_count": 20,
     "metadata": {},
     "output_type": "execute_result"
    }
   ],
   "source": [
    "M_01 = np.sum(yy)\n",
    "M_01"
   ]
  },
  {
   "cell_type": "markdown",
   "metadata": {},
   "source": [
    "So the centroid $C$ is given by :\n",
    "\n",
    "\n",
    "$$C_x = \\bar{x} = \\frac{M_{10}}{M_{00}}$$\n",
    "\n",
    "$$C_y = \\bar{y} = \\frac{M_{01}}{M_{00}}$$"
   ]
  },
  {
   "cell_type": "code",
   "execution_count": 23,
   "metadata": {
    "collapsed": false
   },
   "outputs": [
    {
     "name": "stdout",
     "output_type": "stream",
     "text": [
      "C = (327.43648547085388, 337.30288897161603)\n"
     ]
    }
   ],
   "source": [
    "C_x = M_10 / M_00\n",
    "C_y = M_01 / M_00\n",
    "print(\"C =\", (C_x, C_y))"
   ]
  },
  {
   "cell_type": "markdown",
   "metadata": {},
   "source": [
    "Let's verify it visually :"
   ]
  },
  {
   "cell_type": "code",
   "execution_count": 27,
   "metadata": {
    "collapsed": false
   },
   "outputs": [
    {
     "data": {
      "image/png": "[encoded data removed]",
      "text/plain": [
       "<matplotlib.figure.Figure at 0x7fc57ffd8be0>"
      ]
     },
     "metadata": {},
     "output_type": "display_data"
    }
   ],
   "source": [
    "plt.scatter(C_x, C_y, color='red', marker='+', s=100)\n",
    "_ = plt.imshow(a, interpolation=\"none\", cmap=\"gray\")"
   ]
  },
  {
   "cell_type": "markdown",
   "metadata": {},
   "source": [
    "Well it seems to work nicely !\n",
    "\n",
    "### Find the major and minor axis\n",
    "\n",
    "Here it becomes a little bit tricky.\n",
    "\n",
    "The information about the object orientation can be derived using the **second order central moments** to construct a **covariance matrix** (see [Wikipedia](https://en.wikipedia.org/wiki/Image_moment) for more details).\n",
    "\n",
    "Here is a new concept : **central moment** ($\\mu$) which describes **distribution of mean** (unlike moment (M) which describes distribution only).\n",
    "\n",
    "Note that sometime moment is also called **raw moment**.\n",
    "\n",
    "The discrete equation of the central moment is the : \n",
    "\n",
    "$$\\mu_{pq} = \\sum_{x} \\sum_{y} (x - \\bar{x})^p(y - \\bar{y})^q f(x,y)$$\n",
    "\n",
    "with $\\bar{x}=\\frac{M_{10}}{M_{00}}$ and $\\bar{y}=\\frac{M_{01}}{M_{00}}$\n",
    "\n",
    "Now it becomes difficult to get the intuition of what's going next. From [Wikipedia](https://en.wikipedia.org/wiki/Image_moment) :  \n",
    "\n",
    "> The eigenvectors of the covariance matrix of the image correspond to the **major** and **minor** axes of the image intensity, so the orientation can thus be extracted from the **angle of the eigenvector** associated with the **largest eigenvalue**. It can be shown that this angle Θ is given by the following formula:\n",
    "\n",
    "> $$\\Theta = \\frac{1}{2} \\arctan \\left( \\frac{2\\mu'_{11}}{\\mu'_{20} - \\mu'_{02}} \\right)$$\n",
    "\n",
    "Where :\n",
    "\n",
    "$$\\mu'_{20} = \\mu_{20} / \\mu_{00} = M_{20}/M_{00} - \\bar{x}^2$$\n",
    "$$\\mu'_{02} = \\mu_{02} / \\mu_{00} = M_{02}/M_{00} - \\bar{y}^2$$\n",
    "$$\\mu'_{11} = \\mu_{11} / \\mu_{00} = M_{11}/M_{00} - \\bar{x}\\bar{y}$$"
   ]
  },
  {
   "cell_type": "markdown",
   "metadata": {},
   "source": [
    "Let's first compute the second order raw moment : "
   ]
  },
  {
   "cell_type": "code",
   "execution_count": null,
   "metadata": {
    "collapsed": true
   },
   "outputs": [],
   "source": [
    "M_20 = np.sum(xx ** 2)\n",
    "M_02 = np.sum(yy ** 2)\n",
    "M_11 = np.sum(xx * yy)"
   ]
  },
  {
   "cell_type": "markdown",
   "metadata": {},
   "source": [
    "Compute $\\mu'_{20}$, $\\mu'_{02}$ and $\\mu'_{11}$ :"
   ]
  },
  {
   "cell_type": "code",
   "execution_count": 38,
   "metadata": {
    "collapsed": true
   },
   "outputs": [],
   "source": [
    "mu_20 = M_20 / M_00 - C_x ** 2\n",
    "mu_02 = M_20 / M_00 - C_y ** 2\n",
    "mu_11 = M_11 / M_00 - C_x * C_y"
   ]
  },
  {
   "cell_type": "markdown",
   "metadata": {},
   "source": [
    "Compute Theta $\\Theta$ : "
   ]
  },
  {
   "cell_type": "code",
   "execution_count": 44,
   "metadata": {
    "collapsed": false
   },
   "outputs": [
    {
     "name": "stdout",
     "output_type": "stream",
     "text": [
      "angle = -36.72080335329064°\n"
     ]
    }
   ],
   "source": [
    "theta = 1/2 * np.arctan((2 * mu_11) / (mu_20 - mu_02))\n",
    "\n",
    "# Convert it in degree\n",
    "angle = np.rad2deg(theta)\n",
    "print(\"angle = {}°\".format(angle))"
   ]
  },
  {
   "cell_type": "code",
   "execution_count": 58,
   "metadata": {
    "collapsed": false
   },
   "outputs": [
    {
     "data": {
      "text/plain": [
       "(21790.473792303001, -1222.7268337541718)"
      ]
     },
     "execution_count": 58,
     "metadata": {},
     "output_type": "execute_result"
    }
   ],
   "source": [
    "D = 4 * mu_11 ** 2 + (mu_20 - mu_02) ** 2\n",
    "lambda_1 = (mu_20 + mu_02) / 2 + ((np.sqrt(D)) / 2)\n",
    "lambda_2 = (mu_20 + mu_02) / 2 - ((np.sqrt(D)) / 2)\n",
    "lambda_1, lambda_2"
   ]
  },
  {
   "cell_type": "code",
   "execution_count": 67,
   "metadata": {
    "collapsed": true
   },
   "outputs": [],
   "source": [
    "x = np.arange(0, 600*np.pi)\n",
    "y = x * np.cos(theta)"
   ]
  },
  {
   "cell_type": "code",
   "execution_count": 68,
   "metadata": {
    "collapsed": false
   },
   "outputs": [
    {
     "data": {
      "image/png": "[encoded data removed]",
      "text/plain": [
       "<matplotlib.figure.Figure at 0x7fc580728e10>"
      ]
     },
     "metadata": {},
     "output_type": "display_data"
    }
   ],
   "source": [
    "plt.plot(x, y)\n",
    "plt.scatter(C_x, C_y, color='red', marker='+', s=100)\n",
    "_ = plt.imshow(a, interpolation=\"none\", cmap=\"gray\")"
   ]
  },
  {
   "cell_type": "markdown",
   "metadata": {},
   "source": [
    "## References\n",
    "\n",
    "Some links which help me : \n",
    "\n",
    "- https://en.wikipedia.org/wiki/Image_moment\n",
    "- https://github.com/shackenberg/Image-Moments-in-Python/blob/master/moments.py\n",
    "- http://imagej.nih.gov/ij/source/ij/process/EllipseFitter.java\n",
    "- http://imagej.1557.x6.nabble.com/Ellipse-fitting-algorithm-used-by-ImageJ-td3686611.html"
   ]
  }
 ],
 "metadata": {
  "kernelspec": {
   "display_name": "Python 3",
   "language": "python",
   "name": "python3"
  },
  "language_info": {
   "codemirror_mode": {
    "name": "ipython",
    "version": 3
   },
   "file_extension": ".py",
   "mimetype": "text/x-python",
   "name": "python",
   "nbconvert_exporter": "python",
   "pygments_lexer": "ipython3",
   "version": "3.4.3"
  }
 },
 "nbformat": 4,
 "nbformat_minor": 0
}
