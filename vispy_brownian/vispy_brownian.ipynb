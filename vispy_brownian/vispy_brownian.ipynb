{
 "cells": [
  {
   "cell_type": "markdown",
   "metadata": {},
   "source": [
    "# Interactive 3D brownian motion with Vispy"
   ]
  },
  {
   "cell_type": "code",
   "execution_count": 1,
   "metadata": {
    "collapsed": true
   },
   "outputs": [],
   "source": [
    "import numpy as np\n",
    "\n",
    "from vispy import geometry\n",
    "from vispy import scene\n",
    "from vispy import app\n",
    "\n",
    "import vispy\n",
    "import vispy.app.qt as vispyqt\n",
    "\n",
    "qtapp = vispy.app.use_app('pyqt4')\n",
    "\n",
    "QtCore = qtapp.backend_module.QtCore\n",
    "QtGui = qtapp.backend_module.QtGui"
   ]
  },
  {
   "cell_type": "code",
   "execution_count": 60,
   "metadata": {
    "collapsed": false
   },
   "outputs": [
    {
     "data": {
      "text/plain": [
       "0"
      ]
     },
     "execution_count": 60,
     "metadata": {},
     "output_type": "execute_result"
    }
   ],
   "source": [
    "class MainWindow(QtGui.QWidget):\n",
    "\n",
    "    def __init__(self):\n",
    "        QtGui.QWidget.__init__(self, None)\n",
    "        self.setMinimumSize(800, 600)\n",
    "        self.setWindowTitle('Test')\n",
    "        \n",
    "        self.canvas = vispyqt.QtSceneCanvas(keys='interactive', app=qtapp, parent=self, bgcolor='white')\n",
    "        \n",
    "        self.view = self.canvas.central_widget.add_view()\n",
    "        self.view.camera = scene.cameras.TurntableCamera()\n",
    "\n",
    "        self.spheres = []\n",
    "        self.colors = ['red', 'red', 'green', 'green']\n",
    "        \n",
    "        # Generate random motion for each spheres\n",
    "        tmax = 100000\n",
    "        self.pos = np.random.randint(-1, 2, size=(tmax, len(self.colors), 3))\n",
    "        \n",
    "        # Create spheres\n",
    "        for i, color in enumerate(self.colors):\n",
    "            position = self.pos[0, i]\n",
    "            sphere = self.create_sphere(position, color)\n",
    "            self.spheres.append(sphere)\n",
    "            self.view.add(sphere)\n",
    "        \n",
    "        # Config slider widget according to random motions\n",
    "        self.slider = QtGui.QSlider(QtCore.Qt.Horizontal, self)\n",
    "        self.slider.valueChanged.connect(self.move)\n",
    "        self.slider.setRange(0, tmax)\n",
    "        self.slider.setSingleStep(1)\n",
    "        \n",
    "        # Layout\n",
    "        vlayout = QtGui.QVBoxLayout(self)\n",
    "        self.setLayout(vlayout)\n",
    "        vlayout.addWidget(self.canvas.native, 0)\n",
    "        vlayout.addWidget(self.slider, 1)\n",
    "\n",
    "    def create_sphere(self, position, color):       \n",
    "        mdata = geometry.create_sphere(64, 64,  radius=0.5)\n",
    "        sphere = scene.visuals.Mesh(meshdata=mdata, shading='flat', color=color)\n",
    "        \n",
    "        t = scene.transforms.AffineTransform()\n",
    "        t.translate(position)\n",
    "        sphere.transform = t\n",
    "        \n",
    "        return sphere\n",
    "        \n",
    "    def move(self, t):\n",
    "        for i, sphere in enumerate(self.spheres):\n",
    "            sphere.transform.translate(self.pos[t - 1, i] / 5)\n",
    "            \n",
    "qtapp.create()\n",
    "win = MainWindow()\n",
    "win.show()\n",
    "qtapp.run()"
   ]
  }
 ],
 "metadata": {
  "kernelspec": {
   "display_name": "Python 3",
   "language": "python",
   "name": "python3"
  },
  "language_info": {
   "codemirror_mode": {
    "name": "ipython",
    "version": 3
   },
   "file_extension": ".py",
   "mimetype": "text/x-python",
   "name": "python",
   "nbconvert_exporter": "python",
   "pygments_lexer": "ipython3",
   "version": "3.4.3"
  }
 },
 "nbformat": 4,
 "nbformat_minor": 0
}
