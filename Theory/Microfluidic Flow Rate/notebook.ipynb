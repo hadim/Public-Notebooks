{
 "cells": [
  {
   "cell_type": "markdown",
   "metadata": {},
   "source": [
    "# Explore microfluidic flow rate and pressure according to a defined geometry\n",
    "\n",
    "*Date : 20/11/2016*\n",
    "\n",
    "*Note : Feel free to report any errors/mistakes.*\n",
    "\n",
    "The purpose of this notebook **is not** to go deep inside the fluid mechanic in microfluidic devices but more trying to develop an intuition of the different physical constants and their order of magnitude at this scale.\n",
    "\n",
    "<img src=\"drawing.png\" alt=\"\" width=\"600px\"/>\n",
    "\n",
    "For easier calculations, we assume very simple geometries : rectangle or circle.\n",
    "\n",
    "## Theory\n",
    "\n",
    "### Flow rate\n",
    "\n",
    "The flow rate depends on the pressure difference, the properties of the fluid and the geometry used. We can apply the Ohm's law to a flow of particles other than electron.\n",
    "\n",
    "$\n",
    "\\Delta P = RQ\n",
    "$\n",
    "\n",
    "Where : \n",
    "\n",
    "- $\\Delta P$ is the pressure (analog to the tension $U$).\n",
    "- $R$ is the internal resistance of the system (analog to the Ohm's resistance).\n",
    "- $Q$ is the flow rate, analog to the intensity of the current $I$.\n",
    "\n",
    "For each type of channels used in the microfluidic system the resistance need to be calculated.\n",
    "\n",
    "#### Cylindrical channel\n",
    "\n",
    "For a Poiseuille flow, we define the resistance ($R$) into a cylindrical channel with :\n",
    "\n",
    "$\n",
    "R = \\cfrac{8 \\eta L}{\\pi r⁴}\n",
    "$\n",
    "\n",
    "Where : \n",
    "\n",
    "- $R$ is the resistance of the channel (Pa.s/m³)\n",
    "- $r$ is the internal radius of the cylinder\n",
    "- $\\eta$ is the dynamic fluid viscosity (Pa.s or N.s/m²)\n",
    "- $L$ is the length of the channel (m)\n",
    "\n",
    "Then we can define the flow rate $Q$ according to a given pressure $P$.\n",
    "\n",
    "$\n",
    "Q = \\cfrac{\\Delta P}{R} = \\cfrac{\\pi r⁴}{8 \\eta L} |\\Delta P|\n",
    "$\n",
    "\n",
    "Where : \n",
    "\n",
    "- $\\Delta P$ is the difference of pressure (Pa)\n",
    "- $Q$ is the flow rate (m³/s)\n",
    "\n",
    "\n",
    "#### Rectangular channel\n",
    "\n",
    "For a Poiseuille flow, we define the the resistance ($R$) into a rectangular channel with :\n",
    "\n",
    "$\n",
    "R \\approx \\cfrac{12 \\eta L}{\\Bigl[1 - 0.630 \\cfrac{h}{w}\\Bigr] h³w}\n",
    "$\n",
    "\n",
    "Where : \n",
    "\n",
    "- $R$ is the resistance of the channel (Pa.s/m³)\n",
    "- $h$ is the height of the rectangular channel (m)\n",
    "- $w$ is the width of the rectangular channel (m)\n",
    "- $\\eta$ is the dynamic fluid viscosity (Pa.s or N.s/m²)\n",
    "- $L$ is the length of the channel (m)\n",
    "\n",
    "Then we can define the flow rate $Q$ according to a given pressure $P$.\n",
    "\n",
    "$\n",
    "Q = \\cfrac{\\Delta P}{R} \\approx  \\cfrac{\\Bigl[1 - 0.630 \\cfrac{h}{w}\\Bigr] h³w}{12 \\eta L} \\Delta P\n",
    "$\n",
    "\n",
    "Where : \n",
    "\n",
    "- $\\Delta P$ is the difference of pressure (Pa)\n",
    "- $Q$ is the flow rate (m³/s)\n",
    "\n",
    "### Flow velocity\n",
    "\n",
    "The velocity $V$ is calculated from the flow rate ($Q$) and the section of the channel ($S$): \n",
    "\n",
    "$V = \\cfrac{Q}{S}$\n",
    "\n",
    "Where : \n",
    "\n",
    "- $V$ is the fluid velocity (m/s)\n",
    "- $Q$ is the flow rate (m³/s)\n",
    "- $S$ is the surface section (m²)\n",
    "\n",
    "### Reynolds number\n",
    "\n",
    "We define the Reynolds number : \n",
    "\n",
    "$Re = \\cfrac{inertial\\; forces}{viscous\\; forces} = \\cfrac{ρVL}{μ}$\n",
    "\n",
    "Where : \n",
    "\n",
    "- $ρ$ is the density of the fluid (kg/m³)\n",
    "- $V$ is the velocity of the object relative to the fluid (m/s)\n",
    "- $L$ is a characteristic length (m)\n",
    "- $μ$ is the dynamic viscosity of the fluid (Pa.s or N.s/m²)\n",
    "\n",
    "We can define the kinematic viscosity of the fluid (m²/s) : $ν = \\cfrac{μ}{ρ}$. So : \n",
    "\n",
    "$Re = \\cfrac{ρVL}{μ} = \\cfrac{VL}{ν}$"
   ]
  },
  {
   "cell_type": "markdown",
   "metadata": {},
   "source": [
    "## Calculations\n",
    "\n",
    "Below some functions to help make the calculation of the different equations above."
   ]
  },
  {
   "cell_type": "code",
   "execution_count": 1,
   "metadata": {},
   "outputs": [],
   "source": [
    "%matplotlib qt\n",
    "\n",
    "import numpy as np\n",
    "import matplotlib.pyplot as plt\n",
    "\n",
    "def calculcate_section_circle(diameter):\n",
    "    return np.pi * ((diameter / 2) ** 2)\n",
    "\n",
    "def calculcate_section_rectangle(height, width):\n",
    "    return height * width\n",
    "\n",
    "def calculate_characteristic_length_circle(diameter):\n",
    "    return diameter\n",
    "\n",
    "def calculate_characteristic_length_rectangle(height, width):\n",
    "    return (2 * height * width) / (height + width)\n",
    "\n",
    "def calculate_kinematic_viscosity(viscosity, density):\n",
    "    return viscosity / density\n",
    "\n",
    "def calculate_flow_rate_circle(diameter, viscosity, length, delta_pressure):\n",
    "    return (np.pi * (diameter / 2)**4 * np.abs(delta_pressure)) / (8 * viscosity * length)\n",
    "\n",
    "def calculate_flow_rate_rectangle(height, width, viscosity, length, delta_pressure):\n",
    "    return (1 - 0.630 * (height / width)) * (((height ** 3) * width * delta_pressure) / (12 * viscosity * length))\n",
    "\n",
    "def calculate_pressure_circle(diameter, viscosity, length, flow_rate):\n",
    "    return (8 * viscosity * length * flow_rate) / (np.pi * (diameter / 2)**4)\n",
    "\n",
    "def calculate_pressure_rectangle(height, width, viscosity, length, flow_rate):\n",
    "    return (12 * viscosity * length * flow_rate) / ((1 - 0.630 * (height / width)) * ((height ** 3) * width))\n",
    "\n",
    "def calculate_flow_velocity(flow_rate, section):\n",
    "    return (flow_rate / section)\n",
    "\n",
    "def calculate_reynolds_number(kinematic_viscosity, characteristic_length, velocity):\n",
    "    return (velocity * characteristic_length) / kinematic_viscosity"
   ]
  },
  {
   "cell_type": "markdown",
   "metadata": {},
   "source": [
    "Define some initial conditions (feel free to test others conditions) :"
   ]
  },
  {
   "cell_type": "markdown",
   "metadata": {},
   "source": [
    "### Interactive widgets"
   ]
  },
  {
   "cell_type": "code",
   "execution_count": 2,
   "metadata": {},
   "outputs": [],
   "source": [
    "from ipywidgets import interactive"
   ]
  },
  {
   "cell_type": "markdown",
   "metadata": {},
   "source": [
    "### Calculate pressure needed for a given flow rate"
   ]
  },
  {
   "cell_type": "code",
   "execution_count": 3,
   "metadata": {},
   "outputs": [],
   "source": [
    "# Initial conditions\n",
    "\n",
    "## Geometry\n",
    "height = 100e-6  # m (not used for circle)\n",
    "width = 100e-6  # m (not used for circle)\n",
    "diameter = 100e-6  # m (not used for rectangle)\n",
    "shape = \"rectangle\"  # Choose in [\"rectangle\", \"circle\"]\n",
    "\n",
    "length = 20e-3  # m\n",
    "\n",
    "## Water at 20°C\n",
    "viscosity = 1.307e-3  # Pa.s or  N.s/m²\n",
    "density = 1e3  # kg/m³\n",
    "\n",
    "## Flow rate wanted\n",
    "flow_rate = 20  # ul/min\n",
    "\n",
    "## Convert flow rate to IU\n",
    "flow_rate_iu = (flow_rate / 60) * 1e-9\n",
    "\n",
    "assert height <= width"
   ]
  },
  {
   "cell_type": "markdown",
   "metadata": {},
   "source": [
    "Do the math !"
   ]
  },
  {
   "cell_type": "code",
   "execution_count": 4,
   "metadata": {},
   "outputs": [
    {
     "name": "stdout",
     "output_type": "stream",
     "text": [
      "Shape used is 'rectangle'.\n",
      "Flow rate wanted is 20 ul/min.\n",
      "\n",
      "Section is 0.010 mm².\n",
      "Characteristic length is 100 μm.\n",
      "\n",
      "Kinematic viscosity is 1.307e-06 m²/s.\n",
      "\n",
      "Pressure 28.259 mbar.\n",
      "Flow velocity is 0.033 m/s.\n",
      "\n",
      "Reynolds number is 2.550370.\n",
      "Flow regime is laminar.\n"
     ]
    }
   ],
   "source": [
    "if shape == \"circle\":\n",
    "    section = calculcate_section_circle(diameter)\n",
    "    characteristic_length = calculate_characteristic_length_circle(diameter)\n",
    "    pressure = calculate_pressure_circle(diameter, viscosity, length, flow_rate_iu)\n",
    "    \n",
    "elif shape == \"rectangle\":\n",
    "    section = calculcate_section_rectangle(height, width)\n",
    "    characteristic_length = calculate_characteristic_length_rectangle(height, width)\n",
    "    pressure = calculate_pressure_rectangle(height, width, viscosity, length, flow_rate_iu)\n",
    "    \n",
    "kinematic_viscosity = calculate_kinematic_viscosity(viscosity, density)\n",
    "flow_velocity = calculate_flow_velocity(flow_rate_iu, section)\n",
    "\n",
    "reynolds_number = calculate_reynolds_number(kinematic_viscosity, characteristic_length, flow_velocity)\n",
    "    \n",
    "print(\"Shape used is '{}'.\".format(shape))\n",
    "print(\"Flow rate wanted is {} ul/min.\".format(flow_rate))\n",
    "print()\n",
    "print(\"Section is {0:.3f} mm².\".format(section*1e6))\n",
    "print(\"Characteristic length is {0:.0f} μm.\".format(characteristic_length*1e6))\n",
    "print()\n",
    "print(\"Kinematic viscosity is {} m²/s.\".format(kinematic_viscosity))\n",
    "print()\n",
    "print(\"Pressure {0:.3f} mbar.\".format(pressure / 100))\n",
    "print(\"Flow velocity is {0:.3f} m/s.\".format(flow_velocity))\n",
    "print()\n",
    "print(\"Reynolds number is {0:.6f}.\".format(reynolds_number))\n",
    "\n",
    "if reynolds_number < 2300:\n",
    "    print(\"Flow regime is laminar.\")\n",
    "elif reynolds_number >= 2300 and reynolds_number < 4000:\n",
    "    print(\"Flow regime is transitional.\")\n",
    "elif reynolds_number >= 4000:\n",
    "    print(\"Flow regime is turbulent.\")"
   ]
  },
  {
   "cell_type": "markdown",
   "metadata": {},
   "source": [
    "**Important : Calculation is only valid for laminar flow !**"
   ]
  },
  {
   "cell_type": "markdown",
   "metadata": {},
   "source": [
    "### Plot : Shape size against pressure for a given flow rate"
   ]
  },
  {
   "cell_type": "code",
   "execution_count": 5,
   "metadata": {},
   "outputs": [
    {
     "data": {
      "text/plain": [
       "<matplotlib.text.Text at 0x7f082e8fb0b8>"
      ]
     },
     "execution_count": 5,
     "metadata": {},
     "output_type": "execute_result"
    }
   ],
   "source": [
    "n = 1000\n",
    "\n",
    "## Geometry\n",
    "height = np.linspace(50e-6, 0.001, n)  # m\n",
    "width = np.linspace(50e-6, 0.001, n)  # m\n",
    "diameter = np.linspace(50e-6, 0.001, n)  # m\n",
    "\n",
    "length = 20e-3  # m\n",
    "\n",
    "## Water at 20°C\n",
    "viscosity = 1.307e-3  # Pa.s or  N.s/m²\n",
    "density = 1e3  # kg/m³\n",
    "\n",
    "## Flow rate wanted\n",
    "flow_rate = 20  # ul/min\n",
    "\n",
    "## Convert flow rate to IU\n",
    "flow_rate_iu = (flow_rate / 60) * 1e-9\n",
    "\n",
    "pressure_circle = calculate_pressure_circle(diameter, viscosity, length, flow_rate_iu)\n",
    "pressure_rectangle = calculate_pressure_rectangle(height, width, viscosity, length, flow_rate_iu)\n",
    "\n",
    "fig, ax = plt.subplots()\n",
    "\n",
    "ax.plot(height * 1e6, pressure_rectangle / 100, label=\"Square Channel\", lw=2, alpha=0.8)\n",
    "ax.plot(diameter * 1e6, pressure_circle / 100, label=\"Cylindrical Channel\", lw=2, alpha=0.8)\n",
    "\n",
    "ax.set_xlabel(\"Shape Size (um)\")\n",
    "ax.set_ylabel(\"Pressure Needed (mbar)\")\n",
    "\n",
    "#ax.set_xscale(\"log\")\n",
    "ax.set_yscale(\"log\")\n",
    "\n",
    "ax.legend()\n",
    "\n",
    "ax.set_title(\"Pressure needed versus the shape size\\nfor a flow rate of {} ul/min\".format(flow_rate))"
   ]
  },
  {
   "cell_type": "markdown",
   "metadata": {},
   "source": [
    "### Plot : Flow rate against pressure for a given shape size"
   ]
  },
  {
   "cell_type": "code",
   "execution_count": 8,
   "metadata": {},
   "outputs": [
    {
     "data": {
      "text/plain": [
       "<matplotlib.text.Text at 0x7f6822291860>"
      ]
     },
     "execution_count": 8,
     "metadata": {},
     "output_type": "execute_result"
    },
    {
     "data": {
      "image/png": "[encoded data removed]",
      "text/plain": [
       "<matplotlib.figure.Figure at 0x7f68222e5668>"
      ]
     },
     "metadata": {},
     "output_type": "display_data"
    }
   ],
   "source": [
    "n = 1000\n",
    "\n",
    "## Geometry\n",
    "height = 100e-6  # m\n",
    "width = 100e-6  # m\n",
    "length = 20e-3  # m\n",
    "\n",
    "## Water at 20°C\n",
    "viscosity = 1.307e-3  # Pa.s or  N.s/m²\n",
    "density = 1e3  # kg/m³\n",
    "\n",
    "## Flow rate wanted\n",
    "flow_rate = np.linspace(1, 500, n)  # ul/min\n",
    "\n",
    "## Convert flow rate to IU\n",
    "flow_rate_iu = (flow_rate / 60) * 1e-9\n",
    "\n",
    "pressure_rectangle = calculate_pressure_rectangle(height, width, viscosity, length, flow_rate_iu)\n",
    "\n",
    "fig, ax = plt.subplots()\n",
    "\n",
    "ax.plot(flow_rate, pressure_rectangle / 100, label=\"Square Channel\", lw=2, alpha=1.0, color=\"gray\")\n",
    "\n",
    "ax.set_xlabel(\"Flow rate wanted (ul/min)\")\n",
    "ax.set_ylabel(\"Pressure Needed (mbar)\")\n",
    "\n",
    "#ax.set_xscale(\"log\")\n",
    "ax.set_yscale(\"log\")\n",
    "\n",
    "ax.set_title(\"Pressure needed versus the flow rate wanted\\nfor a rectangular channel of wxhxL = {}x{}x{} m \".format(height, width, length))"
   ]
  },
  {
   "cell_type": "markdown",
   "metadata": {},
   "source": [
    "## Source\n",
    "\n",
    "- https://en.wikipedia.org/wiki/Reynolds_number\n",
    "- https://en.wikipedia.org/wiki/Pump\n",
    "- https://en.wikipedia.org/wiki/Pressure-driven_flow\n",
    "- http://www.dolomite-microfluidics.com/us/downloadsmain/microfluidic-calculator\n",
    "- http://www.elveflow.com/microfluidic-tutorials/microfluidic-reviews-and-tutorials/flow-control-in-microfluidic-device/\n",
    "- https://www.uio.no/studier/emner/matnat/math/MEK4450/h11/undervisningsmateriale/modul-5/Pipeflow_intro.pdf\n",
    "- http://www.pipeflow.co.uk/public/articles/Non_Circular_Pipe_Friction.pdf\n",
    "- http://pubs.rsc.org/en/content/chapterhtml/2014/bk9781849736718-00001?isbn=978-1-84973-671-8"
   ]
  }
 ],
 "metadata": {
  "kernelspec": {
   "display_name": "Python 3",
   "language": "python",
   "name": "python3"
  },
  "language_info": {
   "codemirror_mode": {
    "name": "ipython",
    "version": 3
   },
   "file_extension": ".py",
   "mimetype": "text/x-python",
   "name": "python",
   "nbconvert_exporter": "python",
   "pygments_lexer": "ipython3",
   "version": "3.5.2"
  }
 },
 "nbformat": 4,
 "nbformat_minor": 1
}
