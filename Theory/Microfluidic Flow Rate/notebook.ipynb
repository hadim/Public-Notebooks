{
 "cells": [
  {
   "cell_type": "markdown",
   "metadata": {},
   "source": [
    "# Explore microfluidic flow rate and pressure according to a defined geometry\n",
    "\n",
    "*Date : 20/11/2016*\n",
    "\n",
    "*Note : Feel free to report any errors/mistakes.*\n",
    "\n",
    "The purpose of this notebook **is not** to go deep inside the fluid mechanic in microfluidic devices but more trying to develop an intuition of the different physical constants and their order of magnitude at this scale.\n",
    "\n",
    "![](drawing.png)\n",
    "\n",
    "For easier calculations, we assume very simple geometries : rectangle or circle.\n",
    "\n",
    "## Theory\n",
    "\n",
    "### Flow rate\n",
    "\n",
    "The flow rate depends on the pressure difference, the properties of the fluid and the geometry used.\n",
    "\n",
    "#### Cylindrical channel\n",
    "\n",
    "For a Poiseuille flow, we define the flow rate ($Q$) into a cylindrical channel with :\n",
    "\n",
    "$\n",
    "Q = \\cfrac{\\pi R⁴}{8 \\eta} \\cfrac{|\\Delta P|}{L}\n",
    "$\n",
    "\n",
    "Where : \n",
    "\n",
    "- $Q$ is flow rate (m³/min)\n",
    "- $R$ is the internal radius of the cylinder\n",
    "- $\\eta$ is the dynamic fluid viscosity (Pa.s or N.s/m²)\n",
    "- $L$ is the length of the channel (m)\n",
    "- $\\Delta P$ is difference of pressure (Pa)\n",
    "\n",
    "#### Rectangular channel\n",
    "\n",
    "For a Poiseuille flow, we define the flow rate ($Q$) into a rectangular channel with :\n",
    "\n",
    "$\n",
    "Q \\approx \\Bigl[1 - 0.630 \\cfrac{h}{w}\\Bigr] \\cfrac{h³w}{12 \\eta L} \\Delta P\n",
    "$\n",
    "\n",
    "Where : \n",
    "\n",
    "- $h$ is the height of the rectangular channel (m)\n",
    "- $w$ is the width of the rectangular channel (m)\n",
    "\n",
    "### Flow velocity\n",
    "\n",
    "The velocity $V$ is calculated from the flow rate ($Q$) and the section ($S$): \n",
    "\n",
    "$V = \\cfrac{Q}{S}$\n",
    "\n",
    "Where : \n",
    "\n",
    "- $V$ is the fluid velocity (m/s)\n",
    "- $Q$ is flow rate (m³/s)\n",
    "- $S$ is surface section (m²)\n",
    "\n",
    "### Reynolds number\n",
    "\n",
    "We define the Reynolds number : \n",
    "\n",
    "$Re = \\cfrac{inertial\\; forces}{viscous\\; forces} = \\cfrac{ρVL}{μ}$\n",
    "\n",
    "Where : \n",
    "\n",
    "- $ρ$ is the density of the fluid (kg/m³)\n",
    "- $V$ is the velocity of the object relative to the fluid (m/s)\n",
    "- $L$ is a characteristic length (m)\n",
    "- $μ$ is the dynamic viscosity of the fluid (Pa.s or N.s/m²)\n",
    "\n",
    "We can define the kinematic viscosity of the fluid (m²/s) : $ν = \\cfrac{μ}{ρ}$. So : \n",
    "\n",
    "$Re = \\cfrac{ρVL}{μ} = \\cfrac{VL}{ν}$"
   ]
  },
  {
   "cell_type": "markdown",
   "metadata": {},
   "source": [
    "## Calculations\n",
    "\n",
    "Below some functions to help make the calculation of the different equations above."
   ]
  },
  {
   "cell_type": "code",
   "execution_count": 1,
   "metadata": {},
   "outputs": [],
   "source": [
    "import numpy as np\n",
    "\n",
    "def calculcate_section_circle(diameter):\n",
    "    return np.pi * ((diameter / 2) ** 2)\n",
    "\n",
    "def calculcate_section_rectangle(height, width):\n",
    "    return height * width\n",
    "\n",
    "def calculate_characteristic_length_circle(diameter):\n",
    "    return diameter\n",
    "\n",
    "def calculate_characteristic_length_rectangle(height, width):\n",
    "    return (2 * height * width) / (height + width)\n",
    "\n",
    "def calculate_kinematic_viscosity(viscosity, density):\n",
    "    return viscosity / density\n",
    "\n",
    "def calculate_flow_rate_circle(diameter, viscosity, length, delta_pressure):\n",
    "    return (np.pi * (diameter / 2)**4 * np.abs(delta_pressure)) / (8 * viscosity * length)\n",
    "\n",
    "def calculate_flow_rate_rectangle(height, width, viscosity, length, delta_pressure):\n",
    "    return (1 - 0.630 * (height / width)) * (((height ** 3) * width * delta_pressure) / (12 * viscosity * length))\n",
    "\n",
    "def calculate_flow_velocity(flow_rate, section):\n",
    "    return (flow_rate / section)\n",
    "\n",
    "def calculate_reynolds_number(kinematic_viscosity, characteristic_length, velocity):\n",
    "    return (velocity * characteristic_length) / kinematic_viscosity"
   ]
  },
  {
   "cell_type": "markdown",
   "metadata": {},
   "source": [
    "Define some initial conditions (feel free to test others conditions) :"
   ]
  },
  {
   "cell_type": "code",
   "execution_count": 27,
   "metadata": {},
   "outputs": [],
   "source": [
    "# Initial conditions\n",
    "\n",
    "## Geometry\n",
    "height = 100e-6  # m (not used for circle)\n",
    "width = 100e-6  # m (not used for circle)\n",
    "length = 20e-3  # m\n",
    "diameter = 100e-6  # m (not used for rectangle)\n",
    "shape = \"rectangle\"  # Choose in [\"rectangle\", \"circle\"]\n",
    "\n",
    "## Water at 20°C\n",
    "viscosity = 1.307e-3  # Pa.s or  N.s/m²\n",
    "density = 1e3  # kg/m³\n",
    "\n",
    "## Pressure\n",
    "delta_pressure = 16  # mbar\n",
    "\n",
    "# Convert to Pa\n",
    "delta_pressure_pascal = delta_pressure * 100\n",
    "\n",
    "assert height <= width"
   ]
  },
  {
   "cell_type": "markdown",
   "metadata": {},
   "source": [
    "Do the math !"
   ]
  },
  {
   "cell_type": "code",
   "execution_count": 28,
   "metadata": {},
   "outputs": [
    {
     "name": "stdout",
     "output_type": "stream",
     "text": [
      "Shape used is 'rectangle'.\n",
      "Difference of pressure is 16 mbar.\n",
      "\n",
      "Section is 0.010 mm².\n",
      "Characteristic length is 100 μm.\n",
      "\n",
      "Kinematic viscosity is 1.307e-06 m²/s.\n",
      "\n",
      "Flow rate is 11.324 μl/min.\n",
      "Flow velocity is 0.019 m/s.\n",
      "\n",
      "Reynolds number is 1.443974.\n",
      "Flow regime is laminar.\n"
     ]
    }
   ],
   "source": [
    "if shape == \"circle\":\n",
    "    section = calculcate_section_circle(diameter)\n",
    "    characteristic_length = calculate_characteristic_length_circle(diameter)\n",
    "    flow_rate = calculate_flow_rate_circle(diameter, viscosity, length, delta_pressure_pascal)\n",
    "    \n",
    "elif shape == \"rectangle\":\n",
    "    section = calculcate_section_rectangle(height, width)\n",
    "    characteristic_length = calculate_characteristic_length_rectangle(height, width)\n",
    "    flow_rate = calculate_flow_rate_rectangle(height, width, viscosity, length, delta_pressure_pascal)\n",
    "    \n",
    "kinematic_viscosity = calculate_kinematic_viscosity(viscosity, density)\n",
    "flow_velocity = calculate_flow_velocity(flow_rate, section)\n",
    "\n",
    "reynolds_number = calculate_reynolds_number(kinematic_viscosity, characteristic_length, flow_velocity)\n",
    "    \n",
    "print(\"Shape used is '{}'.\".format(shape))\n",
    "print(\"Difference of pressure is {} mbar.\".format(delta_pressure))\n",
    "print()\n",
    "print(\"Section is {0:.3f} mm².\".format(section*1e6))\n",
    "print(\"Characteristic length is {0:.0f} μm.\".format(characteristic_length*1e6))\n",
    "print()\n",
    "print(\"Kinematic viscosity is {} m²/s.\".format(kinematic_viscosity))\n",
    "print()\n",
    "print(\"Flow rate is {0:.3f} μl/min.\".format(flow_rate*1e9*60))\n",
    "print(\"Flow velocity is {0:.3f} m/s.\".format(flow_velocity))\n",
    "print()\n",
    "print(\"Reynolds number is {0:.6f}.\".format(reynolds_number))\n",
    "\n",
    "if reynolds_number < 2300:\n",
    "    print(\"Flow regime is laminar.\")\n",
    "elif reynolds_number >= 2300 and reynolds_number < 4000:\n",
    "    print(\"Flow regime is transitional.\")\n",
    "elif reynolds_number >= 4000:\n",
    "    print(\"Flow regime is turbulent.\")"
   ]
  },
  {
   "cell_type": "markdown",
   "metadata": {},
   "source": [
    "**Important : Calculation is only valid for laminar flow !**"
   ]
  },
  {
   "cell_type": "markdown",
   "metadata": {},
   "source": [
    "## Source\n",
    "\n",
    "- https://en.wikipedia.org/wiki/Reynolds_number\n",
    "- https://en.wikipedia.org/wiki/Pump\n",
    "- https://en.wikipedia.org/wiki/Pressure-driven_flow\n",
    "- http://www.dolomite-microfluidics.com/us/downloadsmain/microfluidic-calculator\n",
    "- http://www.elveflow.com/microfluidic-tutorials/microfluidic-reviews-and-tutorials/flow-control-in-microfluidic-device/\n",
    "- https://www.uio.no/studier/emner/matnat/math/MEK4450/h11/undervisningsmateriale/modul-5/Pipeflow_intro.pdf\n",
    "- http://www.pipeflow.co.uk/public/articles/Non_Circular_Pipe_Friction.pdf\n",
    "- http://pubs.rsc.org/en/content/chapterhtml/2014/bk9781849736718-00001?isbn=978-1-84973-671-8"
   ]
  }
 ],
 "metadata": {
  "kernelspec": {
   "display_name": "Python 3",
   "language": "python",
   "name": "python3"
  },
  "language_info": {
   "codemirror_mode": {
    "name": "ipython",
    "version": 3
   },
   "file_extension": ".py",
   "mimetype": "text/x-python",
   "name": "python",
   "nbconvert_exporter": "python",
   "pygments_lexer": "ipython3",
   "version": "3.5.2"
  }
 },
 "nbformat": 4,
 "nbformat_minor": 1
}
