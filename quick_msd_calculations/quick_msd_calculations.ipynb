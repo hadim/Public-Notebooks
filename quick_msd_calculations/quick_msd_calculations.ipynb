{
 "cells": [
  {
   "cell_type": "markdown",
   "metadata": {},
   "source": [
    "# Compute MSD in Python quickly with FFT\n",
    "\n",
    "The implementation is entirely copied from this SO answer : http://stackoverflow.com/questions/34222272/computing-mean-square-displacement-using-python-and-fft#34222273\n",
    "\n",
    "Thanks to [thomasfermi](http://stackoverflow.com/users/2609987/thomasfermi).\n",
    "\n",
    "This notebook compares the speed of calculation of MSD with FFT and without with trackpy."
   ]
  },
  {
   "cell_type": "code",
   "execution_count": 2,
   "metadata": {
    "collapsed": false
   },
   "outputs": [],
   "source": [
    "%load_ext snakeviz\n",
    "%load_ext autoreload\n",
    "%autoreload 2\n",
    "%matplotlib inline\n",
    "\n",
    "import timeit\n",
    "\n",
    "import matplotlib.pyplot as plt\n",
    "import matplotlib\n",
    "matplotlib.style.use('ggplot')\n",
    "\n",
    "import numpy as np\n",
    "import pandas as pd\n",
    "\n",
    "import trackpy as tp"
   ]
  },
  {
   "cell_type": "code",
   "execution_count": 3,
   "metadata": {
    "collapsed": true
   },
   "outputs": [],
   "source": [
    "def autocorr_fft(x):\n",
    "    N = len(x)\n",
    "    F = np.fft.fft(x, n=2 * N)  # 2*N because of zero-padding\n",
    "    PSD = F * F.conjugate()\n",
    "    res = np.fft.ifft(PSD)\n",
    "    res= (res[:N]).real  # now we have the autocorrelation in convention B\n",
    "    n = N * np.ones(N) - np.arange(0, N) #divide res(m) by (N-m)\n",
    "    return res / n  # this is the autocorrelation in convention A\n",
    "\n",
    "def msd_fft(traj, mpp, fps, max_lagtime=100, detail=False, pos_columns=['x', 'y']):\n",
    "    \"\"\"Implementation comes from here : \n",
    "    http://stackoverflow.com/questions/34222272/computing-mean-square-displacement-using-python-and-fft#34222273\n",
    "    \"\"\"\n",
    "    \n",
    "    r = traj[pos_columns].values\n",
    "    r *= mpp\n",
    "    \n",
    "    t = traj['frame']\n",
    "\n",
    "    max_lagtime = min(max_lagtime, len(t))  # checking to be safe\n",
    "    lagtimes = 1 + np.arange(max_lagtime - 1)    \n",
    "\n",
    "    N = len(r)\n",
    "\n",
    "    D = np.square(r).sum(axis=1) \n",
    "    D = np.append(D, 0)\n",
    "    S2 = sum([autocorr_fft(r[:, i]) for i in range(len(pos_columns))])\n",
    "\n",
    "    Q = 2 * D.sum()\n",
    "    S1 = np.zeros(N)\n",
    "\n",
    "    for m in range(N):\n",
    "        Q = Q - D[m - 1] - D[N - m]\n",
    "        S1[m] = Q / (N - m)\n",
    "\n",
    "    msd = S1 - 2 * S2\n",
    "    \n",
    "    # This is not optimal but still faster\n",
    "    # See the SO question\n",
    "    msd = msd[1:max_lagtime]\n",
    "\n",
    "    lagt = lagtimes / fps\n",
    "\n",
    "    results = pd.DataFrame(np.array([msd, lagt]).T, columns=['msd', 'lagt'])\n",
    "    results.index = 1 + np.arange(max_lagtime - 1)\n",
    "    results.index.name = 'lagt'\n",
    "    \n",
    "    return results\n",
    "\n",
    "def get(N, pos_columns):\n",
    "    traj = np.cumsum(np.random.choice([-1., 0., 1.], size=(N, len(pos_columns))), axis=0)\n",
    "    traj = pd.DataFrame(traj, columns=pos_columns)\n",
    "    traj['frame'] = np.arange(N)\n",
    "    return traj"
   ]
  },
  {
   "cell_type": "code",
   "execution_count": 4,
   "metadata": {
    "collapsed": false
   },
   "outputs": [],
   "source": [
    "# Generate a random trajectory\n",
    "\n",
    "pos_columns = ['x', 'y', 'z']\n",
    "mpp = 0.3\n",
    "fps = 1\n",
    "max_lagtime = 100\n",
    "\n",
    "traj = get(N=10000, pos_columns=pos_columns)"
   ]
  },
  {
   "cell_type": "code",
   "execution_count": 5,
   "metadata": {
    "collapsed": false
   },
   "outputs": [
    {
     "data": {
      "text/html": [
       "<div>\n",
       "<table border=\"1\" class=\"dataframe\">\n",
       "  <thead>\n",
       "    <tr style=\"text-align: right;\">\n",
       "      <th></th>\n",
       "      <th>msd</th>\n",
       "      <th>lagt</th>\n",
       "    </tr>\n",
       "    <tr>\n",
       "      <th>lagt</th>\n",
       "      <th></th>\n",
       "      <th></th>\n",
       "    </tr>\n",
       "  </thead>\n",
       "  <tbody>\n",
       "    <tr>\n",
       "      <th>1</th>\n",
       "      <td>0.180216</td>\n",
       "      <td>1</td>\n",
       "    </tr>\n",
       "    <tr>\n",
       "      <th>2</th>\n",
       "      <td>0.359325</td>\n",
       "      <td>2</td>\n",
       "    </tr>\n",
       "    <tr>\n",
       "      <th>3</th>\n",
       "      <td>0.539730</td>\n",
       "      <td>3</td>\n",
       "    </tr>\n",
       "    <tr>\n",
       "      <th>4</th>\n",
       "      <td>0.720387</td>\n",
       "      <td>4</td>\n",
       "    </tr>\n",
       "    <tr>\n",
       "      <th>5</th>\n",
       "      <td>0.902917</td>\n",
       "      <td>5</td>\n",
       "    </tr>\n",
       "  </tbody>\n",
       "</table>\n",
       "</div>"
      ],
      "text/plain": [
       "           msd  lagt\n",
       "lagt                \n",
       "1     0.180216     1\n",
       "2     0.359325     2\n",
       "3     0.539730     3\n",
       "4     0.720387     4\n",
       "5     0.902917     5"
      ]
     },
     "execution_count": 5,
     "metadata": {},
     "output_type": "execute_result"
    }
   ],
   "source": [
    "# Get MSD with trackpy\n",
    "msd1 = tp.msd(traj, mpp=mpp, fps=fps, max_lagtime=max_lagtime, pos_columns=pos_columns)\n",
    "msd1[['msd', 'lagt']].head()"
   ]
  },
  {
   "cell_type": "code",
   "execution_count": 6,
   "metadata": {
    "collapsed": false
   },
   "outputs": [
    {
     "data": {
      "text/html": [
       "<div>\n",
       "<table border=\"1\" class=\"dataframe\">\n",
       "  <thead>\n",
       "    <tr style=\"text-align: right;\">\n",
       "      <th></th>\n",
       "      <th>msd</th>\n",
       "      <th>lagt</th>\n",
       "    </tr>\n",
       "    <tr>\n",
       "      <th>lagt</th>\n",
       "      <th></th>\n",
       "      <th></th>\n",
       "    </tr>\n",
       "  </thead>\n",
       "  <tbody>\n",
       "    <tr>\n",
       "      <th>1</th>\n",
       "      <td>0.180216</td>\n",
       "      <td>1</td>\n",
       "    </tr>\n",
       "    <tr>\n",
       "      <th>2</th>\n",
       "      <td>0.359325</td>\n",
       "      <td>2</td>\n",
       "    </tr>\n",
       "    <tr>\n",
       "      <th>3</th>\n",
       "      <td>0.539730</td>\n",
       "      <td>3</td>\n",
       "    </tr>\n",
       "    <tr>\n",
       "      <th>4</th>\n",
       "      <td>0.720387</td>\n",
       "      <td>4</td>\n",
       "    </tr>\n",
       "    <tr>\n",
       "      <th>5</th>\n",
       "      <td>0.902917</td>\n",
       "      <td>5</td>\n",
       "    </tr>\n",
       "  </tbody>\n",
       "</table>\n",
       "</div>"
      ],
      "text/plain": [
       "           msd  lagt\n",
       "lagt                \n",
       "1     0.180216     1\n",
       "2     0.359325     2\n",
       "3     0.539730     3\n",
       "4     0.720387     4\n",
       "5     0.902917     5"
      ]
     },
     "execution_count": 6,
     "metadata": {},
     "output_type": "execute_result"
    }
   ],
   "source": [
    "# Get MSD with msd_fft\n",
    "msd2 = msd_fft(traj, mpp=mpp, fps=fps, max_lagtime=max_lagtime, pos_columns=pos_columns)\n",
    "msd2[['msd', 'lagt']].head()"
   ]
  },
  {
   "cell_type": "code",
   "execution_count": null,
   "metadata": {
    "collapsed": false
   },
   "outputs": [
    {
     "data": {
      "text/plain": [
       "<matplotlib.axes._subplots.AxesSubplot at 0x7f49cc91e080>"
      ]
     },
     "execution_count": 7,
     "metadata": {},
     "output_type": "execute_result"
    },
    {
     "data": {
      "image/png": "[encoded data removed]",
      "text/plain": [
       "<matplotlib.figure.Figure at 0x7f49cc91cb00>"
      ]
     },
     "metadata": {},
     "output_type": "display_data"
    }
   ],
   "source": [
    "# Compate MSD with plots\n",
    "fig, ax = plt.subplots(figsize=(14, 10))\n",
    "\n",
    "msd1.plot(x='lagt', y='msd', ax=ax)\n",
    "msd2.plot(x='lagt', y='msd', ax=ax)"
   ]
  },
  {
   "cell_type": "code",
   "execution_count": null,
   "metadata": {
    "collapsed": false
   },
   "outputs": [],
   "source": [
    "t1 = %timeit -o tp.msd(traj, mpp=mpp, fps=fps, max_lagtime=max_lagtime, pos_columns=pos_columns)"
   ]
  },
  {
   "cell_type": "code",
   "execution_count": null,
   "metadata": {
    "collapsed": false
   },
   "outputs": [],
   "source": [
    "t2 = %timeit -o msd_fft(traj, mpp=mpp, fps=fps, max_lagtime=max_lagtime, pos_columns=pos_columns)"
   ]
  }
 ],
 "metadata": {
  "kernelspec": {
   "display_name": "Python 3",
   "language": "python",
   "name": "python3"
  },
  "language_info": {
   "codemirror_mode": {
    "name": "ipython",
    "version": 3
   },
   "file_extension": ".py",
   "mimetype": "text/x-python",
   "name": "python",
   "nbconvert_exporter": "python",
   "pygments_lexer": "ipython3",
   "version": "3.4.3"
  }
 },
 "nbformat": 4,
 "nbformat_minor": 0
}
