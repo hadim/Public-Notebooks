{
 "cells": [
  {
   "cell_type": "markdown",
   "metadata": {},
   "source": [
    "# Classify particle motion from MSD anaysis and bayesian inference (in construction)\n",
    "\n",
    "This analysis is largely inspired from the following paper _Monnier, N. (2012). Bayesian Approach to MSD-Based Analysis of Particle Motion in Live Cells. Biophysical Journal_.\n",
    "\n",
    "The idea is to classify particle motion in different biophysical model : diffusion, confined movement, direct, and so forth.\n",
    "\n",
    "The input of the analysis is MSD curves of several particles (under same condition) and the output is a set of probability for different models.\n",
    "\n",
    "For more details, the papier is available here : http://www.cell.com/biophysj/abstract/S0006-3495(12)00718-7\n",
    "\n",
    "For a complete introduction of bayesian statistic, I strongly encourage you to read this excellent book : [Bayesian Methods for Hackers](http://nbviewer.ipython.org/github/CamDavidsonPilon/Probabilistic-Programming-and-Bayesian-Methods-for-Hackers/blob/master/Chapter1_Introduction/Chapter1.ipynb).\n",
    "\n",
    "TODO: introduce the theory"
   ]
  },
  {
   "cell_type": "markdown",
   "metadata": {},
   "source": [
    "![model](model.png)\n",
    "\n",
    "_Monnier, N. (2012). Bayesian Approach to MSD-Based Analysis of Particle Motion in Live Cells. Biophysical Journal_"
   ]
  },
  {
   "cell_type": "code",
   "execution_count": 1,
   "metadata": {
    "collapsed": false
   },
   "outputs": [],
   "source": [
    "%matplotlib qt\n",
    "%load_ext autoreload\n",
    "%autoreload 2\n",
    "\n",
    "import numpy as np\n",
    "import pandas as pd\n",
    "from scipy import io\n",
    "\n",
    "import pymc3 as pm\n",
    "import theano\n",
    "import theano.tensor as t\n",
    "\n",
    "import matplotlib.pyplot as plt"
   ]
  },
  {
   "cell_type": "markdown",
   "metadata": {},
   "source": [
    "## Load chromosomes MSD curves\n",
    "\n",
    "Corresponds to Fig. 4 A-C in the paper.\n",
    "\n",
    "![chromosomes](chromosomes.png)\n",
    "\n",
    "_Monnier, N. (2012). Bayesian Approach to MSD-Based Analysis of Particle Motion in Live Cells. Biophysical Journal_"
   ]
  },
  {
   "cell_type": "code",
   "execution_count": 2,
   "metadata": {
    "collapsed": false
   },
   "outputs": [
    {
     "data": {
      "text/html": [
       "<div>\n",
       "<table border=\"1\" class=\"dataframe\">\n",
       "  <thead>\n",
       "    <tr style=\"text-align: right;\">\n",
       "      <th></th>\n",
       "      <th>0</th>\n",
       "      <th>1</th>\n",
       "      <th>2</th>\n",
       "      <th>3</th>\n",
       "      <th>4</th>\n",
       "      <th>5</th>\n",
       "      <th>6</th>\n",
       "      <th>7</th>\n",
       "      <th>8</th>\n",
       "      <th>9</th>\n",
       "      <th>...</th>\n",
       "      <th>20</th>\n",
       "      <th>21</th>\n",
       "      <th>22</th>\n",
       "      <th>23</th>\n",
       "      <th>24</th>\n",
       "      <th>25</th>\n",
       "      <th>26</th>\n",
       "      <th>27</th>\n",
       "      <th>28</th>\n",
       "      <th>29</th>\n",
       "    </tr>\n",
       "    <tr>\n",
       "      <th>delay</th>\n",
       "      <th></th>\n",
       "      <th></th>\n",
       "      <th></th>\n",
       "      <th></th>\n",
       "      <th></th>\n",
       "      <th></th>\n",
       "      <th></th>\n",
       "      <th></th>\n",
       "      <th></th>\n",
       "      <th></th>\n",
       "      <th></th>\n",
       "      <th></th>\n",
       "      <th></th>\n",
       "      <th></th>\n",
       "      <th></th>\n",
       "      <th></th>\n",
       "      <th></th>\n",
       "      <th></th>\n",
       "      <th></th>\n",
       "      <th></th>\n",
       "      <th></th>\n",
       "    </tr>\n",
       "  </thead>\n",
       "  <tbody>\n",
       "    <tr>\n",
       "      <th>2.6</th>\n",
       "      <td>0.097573</td>\n",
       "      <td>0.373977</td>\n",
       "      <td>0.076612</td>\n",
       "      <td>0.068739</td>\n",
       "      <td>0.062353</td>\n",
       "      <td>0.036330</td>\n",
       "      <td>0.153783</td>\n",
       "      <td>0.099404</td>\n",
       "      <td>0.204890</td>\n",
       "      <td>0.292111</td>\n",
       "      <td>...</td>\n",
       "      <td>0.161717</td>\n",
       "      <td>0.132908</td>\n",
       "      <td>0.276165</td>\n",
       "      <td>0.134094</td>\n",
       "      <td>0.178738</td>\n",
       "      <td>0.175778</td>\n",
       "      <td>0.256930</td>\n",
       "      <td>0.169733</td>\n",
       "      <td>0.117894</td>\n",
       "      <td>0.262046</td>\n",
       "    </tr>\n",
       "    <tr>\n",
       "      <th>5.2</th>\n",
       "      <td>0.196207</td>\n",
       "      <td>0.351178</td>\n",
       "      <td>0.128585</td>\n",
       "      <td>0.123823</td>\n",
       "      <td>0.147403</td>\n",
       "      <td>0.061929</td>\n",
       "      <td>0.301612</td>\n",
       "      <td>0.227539</td>\n",
       "      <td>0.464767</td>\n",
       "      <td>0.573292</td>\n",
       "      <td>...</td>\n",
       "      <td>0.405083</td>\n",
       "      <td>0.334022</td>\n",
       "      <td>0.662523</td>\n",
       "      <td>0.338944</td>\n",
       "      <td>0.434863</td>\n",
       "      <td>0.418021</td>\n",
       "      <td>0.650792</td>\n",
       "      <td>0.432889</td>\n",
       "      <td>0.309397</td>\n",
       "      <td>0.589823</td>\n",
       "    </tr>\n",
       "    <tr>\n",
       "      <th>7.8</th>\n",
       "      <td>0.331055</td>\n",
       "      <td>0.470176</td>\n",
       "      <td>0.176194</td>\n",
       "      <td>0.198717</td>\n",
       "      <td>0.260169</td>\n",
       "      <td>0.092897</td>\n",
       "      <td>0.485697</td>\n",
       "      <td>0.379726</td>\n",
       "      <td>0.783481</td>\n",
       "      <td>0.893782</td>\n",
       "      <td>...</td>\n",
       "      <td>0.726817</td>\n",
       "      <td>0.593216</td>\n",
       "      <td>1.095236</td>\n",
       "      <td>0.588966</td>\n",
       "      <td>0.738894</td>\n",
       "      <td>0.725592</td>\n",
       "      <td>1.128657</td>\n",
       "      <td>0.770092</td>\n",
       "      <td>0.555813</td>\n",
       "      <td>0.947340</td>\n",
       "    </tr>\n",
       "    <tr>\n",
       "      <th>10.4</th>\n",
       "      <td>0.464399</td>\n",
       "      <td>0.473161</td>\n",
       "      <td>0.232980</td>\n",
       "      <td>0.281506</td>\n",
       "      <td>0.388835</td>\n",
       "      <td>0.133016</td>\n",
       "      <td>0.682776</td>\n",
       "      <td>0.554917</td>\n",
       "      <td>1.164619</td>\n",
       "      <td>1.313681</td>\n",
       "      <td>...</td>\n",
       "      <td>1.115730</td>\n",
       "      <td>0.932779</td>\n",
       "      <td>1.593391</td>\n",
       "      <td>0.893019</td>\n",
       "      <td>1.100812</td>\n",
       "      <td>1.095992</td>\n",
       "      <td>1.713535</td>\n",
       "      <td>1.185670</td>\n",
       "      <td>0.852484</td>\n",
       "      <td>1.355115</td>\n",
       "    </tr>\n",
       "    <tr>\n",
       "      <th>13.0</th>\n",
       "      <td>0.588834</td>\n",
       "      <td>0.479392</td>\n",
       "      <td>0.276361</td>\n",
       "      <td>0.364231</td>\n",
       "      <td>0.531622</td>\n",
       "      <td>0.175939</td>\n",
       "      <td>0.913439</td>\n",
       "      <td>0.759349</td>\n",
       "      <td>1.602612</td>\n",
       "      <td>1.764976</td>\n",
       "      <td>...</td>\n",
       "      <td>1.624899</td>\n",
       "      <td>1.348220</td>\n",
       "      <td>2.226334</td>\n",
       "      <td>1.278424</td>\n",
       "      <td>1.561110</td>\n",
       "      <td>1.566704</td>\n",
       "      <td>2.423151</td>\n",
       "      <td>1.691124</td>\n",
       "      <td>1.214357</td>\n",
       "      <td>1.832992</td>\n",
       "    </tr>\n",
       "  </tbody>\n",
       "</table>\n",
       "<p>5 rows × 30 columns</p>\n",
       "</div>"
      ],
      "text/plain": [
       "             0         1         2         3         4         5         6   \\\n",
       "delay                                                                         \n",
       "2.6    0.097573  0.373977  0.076612  0.068739  0.062353  0.036330  0.153783   \n",
       "5.2    0.196207  0.351178  0.128585  0.123823  0.147403  0.061929  0.301612   \n",
       "7.8    0.331055  0.470176  0.176194  0.198717  0.260169  0.092897  0.485697   \n",
       "10.4   0.464399  0.473161  0.232980  0.281506  0.388835  0.133016  0.682776   \n",
       "13.0   0.588834  0.479392  0.276361  0.364231  0.531622  0.175939  0.913439   \n",
       "\n",
       "             7         8         9     ...           20        21        22  \\\n",
       "delay                                  ...                                    \n",
       "2.6    0.099404  0.204890  0.292111    ...     0.161717  0.132908  0.276165   \n",
       "5.2    0.227539  0.464767  0.573292    ...     0.405083  0.334022  0.662523   \n",
       "7.8    0.379726  0.783481  0.893782    ...     0.726817  0.593216  1.095236   \n",
       "10.4   0.554917  1.164619  1.313681    ...     1.115730  0.932779  1.593391   \n",
       "13.0   0.759349  1.602612  1.764976    ...     1.624899  1.348220  2.226334   \n",
       "\n",
       "             23        24        25        26        27        28        29  \n",
       "delay                                                                        \n",
       "2.6    0.134094  0.178738  0.175778  0.256930  0.169733  0.117894  0.262046  \n",
       "5.2    0.338944  0.434863  0.418021  0.650792  0.432889  0.309397  0.589823  \n",
       "7.8    0.588966  0.738894  0.725592  1.128657  0.770092  0.555813  0.947340  \n",
       "10.4   0.893019  1.100812  1.095992  1.713535  1.185670  0.852484  1.355115  \n",
       "13.0   1.278424  1.561110  1.566704  2.423151  1.691124  1.214357  1.832992  \n",
       "\n",
       "[5 rows x 30 columns]"
      ]
     },
     "execution_count": 2,
     "metadata": {},
     "output_type": "execute_result"
    }
   ],
   "source": [
    "# Chromosomes traj\n",
    "mat = io.loadmat('chromosomes.mat')\n",
    "msds = mat['MSD_curves_chromosomes']\n",
    "msds = pd.DataFrame(msds)\n",
    "msds[\"delay\"] = mat['timelags'].T[0]\n",
    "msds.set_index(\"delay\", drop=True, inplace=True)\n",
    "msds.head()"
   ]
  },
  {
   "cell_type": "markdown",
   "metadata": {},
   "source": [
    "Display all the MSD curves"
   ]
  },
  {
   "cell_type": "code",
   "execution_count": 3,
   "metadata": {
    "collapsed": false
   },
   "outputs": [
    {
     "data": {
      "text/plain": [
       "<matplotlib.text.Text at 0x7fd64b0b80f0>"
      ]
     },
     "execution_count": 3,
     "metadata": {},
     "output_type": "execute_result"
    }
   ],
   "source": [
    "fig, ax = plt.subplots(figsize=(10, 8))\n",
    "msds.plot(ax=ax, legend=False)\n",
    "\n",
    "ax.set_xlabel('Delay (s)')\n",
    "ax.set_ylabel('MSD ($\\mu m^2.s^{-1}$)')"
   ]
  },
  {
   "cell_type": "markdown",
   "metadata": {},
   "source": [
    "Display the average MSD (with std and sem)"
   ]
  },
  {
   "cell_type": "code",
   "execution_count": 4,
   "metadata": {
    "collapsed": false
   },
   "outputs": [
    {
     "data": {
      "text/plain": [
       "<matplotlib.text.Text at 0x7fd64af3b6a0>"
      ]
     },
     "execution_count": 4,
     "metadata": {},
     "output_type": "execute_result"
    }
   ],
   "source": [
    "msd_mean = msds.mean(axis=1)\n",
    "msd_std = msds.std(axis=1)\n",
    "msd_sem = msds.sem(axis=1)\n",
    "\n",
    "fig, ax = plt.subplots(figsize=(10, 8))\n",
    "msd_mean.plot(ax=ax, lw=2)\n",
    "\n",
    "# std\n",
    "ax.fill_between(msd_mean.index, msd_mean, msd_mean + msd_std, alpha=0.1)\n",
    "ax.fill_between(msd_mean.index, msd_mean, msd_mean - msd_std, alpha=0.1)\n",
    "\n",
    "# sem\n",
    "ax.fill_between(msd_mean.index, msd_mean, msd_mean + msd_sem, alpha=0.2)\n",
    "ax.fill_between(msd_mean.index, msd_mean, msd_mean - msd_sem, alpha=0.2)\n",
    "\n",
    "ax.set_xlabel('Delay (s)')\n",
    "ax.set_ylabel('MSD ($\\mu m^2.s^{-1}$)')"
   ]
  },
  {
   "cell_type": "markdown",
   "metadata": {},
   "source": [
    "## Naive implementation from Matlab code"
   ]
  },
  {
   "cell_type": "markdown",
   "metadata": {},
   "source": [
    "Matlab code is available here : http://msd-bayes.org/"
   ]
  },
  {
   "cell_type": "markdown",
   "metadata": {},
   "source": [
    "### Covariance matrix\n",
    "\n",
    "In `msd_curves_bayes.m`."
   ]
  },
  {
   "cell_type": "code",
   "execution_count": 5,
   "metadata": {
    "collapsed": true
   },
   "outputs": [],
   "source": [
    "# Get the average MSD\n",
    "msd_mean = msds.mean(axis=1)\n",
    "\n",
    "# Get difference between each individual curve and the mean curve\n",
    "errors = msds.copy()\n",
    "for i, col in msds.iteritems():\n",
    "    errors.loc[:, i] = col - msd_mean\n",
    "\n",
    "# Calculate raw covariance matrix\n",
    "error_cov_raw = np.cov(errors)\n",
    "\n",
    "# Regularize covariance matrix (TODO)\n",
    "error_cov = error_cov_raw.copy()\n",
    "\n",
    "# Covariance of the mean curve\n",
    "error_cov_raw /= errors.shape[0]\n",
    "error_cov /= errors.shape[0]"
   ]
  },
  {
   "cell_type": "markdown",
   "metadata": {},
   "source": [
    "Display the covariance matrix."
   ]
  },
  {
   "cell_type": "code",
   "execution_count": 6,
   "metadata": {
    "collapsed": false
   },
   "outputs": [
    {
     "data": {
      "text/plain": [
       "<matplotlib.image.AxesImage at 0x7fd64a2ae198>"
      ]
     },
     "execution_count": 6,
     "metadata": {},
     "output_type": "execute_result"
    }
   ],
   "source": [
    "plt.figure(figsize=(8, 8))\n",
    "plt.imshow(error_cov)"
   ]
  },
  {
   "cell_type": "markdown",
   "metadata": {},
   "source": [
    "### Fitting\n",
    "\n",
    "In `msd_fitting.m`."
   ]
  },
  {
   "cell_type": "code",
   "execution_count": null,
   "metadata": {
    "collapsed": true
   },
   "outputs": [],
   "source": [
    "# TODO"
   ]
  },
  {
   "cell_type": "markdown",
   "metadata": {},
   "source": [
    "## Implementation with PyMC3"
   ]
  },
  {
   "cell_type": "markdown",
   "metadata": {},
   "source": [
    "See https://pymc-devs.github.io/pymc3/getting_started/#a-motivating-example-linear-regression for an introduction to PyMC3."
   ]
  },
  {
   "cell_type": "markdown",
   "metadata": {},
   "source": [
    "### Brownian diffusion\n",
    "\n",
    "Fit the following equation : $MSD(\\tau) = 4D\\tau$"
   ]
  },
  {
   "cell_type": "markdown",
   "metadata": {},
   "source": [
    "** IN CONSTRUCTION **\n",
    "based on http://nbviewer.ipython.org/github/CamDavidsonPilon/Probabilistic-Programming-and-Bayesian-Methods-for-Hackers/blob/master/Chapter1_Introduction/Chapter1.ipynb#Introducing-our-first-hammer:-PyMC"
   ]
  },
  {
   "cell_type": "code",
   "execution_count": 44,
   "metadata": {
    "collapsed": false
   },
   "outputs": [
    {
     "data": {
      "text/plain": [
       "<Container object of 74 artists>"
      ]
     },
     "execution_count": 44,
     "metadata": {},
     "output_type": "execute_result"
    }
   ],
   "source": [
    "count_data = np.loadtxt(\"/home/hadim/txtdata.csv\")\n",
    "plt.bar(np.arange(len(count_data)), count_data, color=\"#348ABD\", edgecolor=\"none\")"
   ]
  },
  {
   "cell_type": "code",
   "execution_count": 54,
   "metadata": {
    "collapsed": false
   },
   "outputs": [
    {
     "name": "stdout",
     "output_type": "stream",
     "text": [
      " [-----------------100%-----------------] 1000 of 1000 complete in 0.4 sec\n",
      "tau 42.181\n",
      "lambda_1 18.1154265182\n",
      "lambda_2 22.2406555915\n"
     ]
    }
   ],
   "source": [
    "count_data = np.loadtxt(\"/home/hadim/txtdata.csv\")\n",
    "\n",
    "alpha = 1.0 / count_data.mean()  # Recall count_data is the variable that holds our txt counts\n",
    "\n",
    "with pm.Model() as model:\n",
    "\n",
    "    lambda_1 = pm.Exponential(\"lambda_1\", alpha, testval=17)\n",
    "    lambda_2 = pm.Exponential(\"lambda_2\", alpha)\n",
    "\n",
    "    tau = pm.DiscreteUniform(\"tau\", lower=0, upper=len(count_data))\n",
    "\n",
    "    days = np.arange(len(count_data))\n",
    "    lambda_ = pm.switch(tau >= days, lambda_1, lambda_2)\n",
    "    \n",
    "    observation = pm.Poisson(\"observation\", mu=lambda_, observed=count_data)\n",
    "    \n",
    "    step = pm.Metropolis()\n",
    "    trace = pm.sample(1000, step)\n",
    "    \n",
    "print()\n",
    "print(\"tau\", trace['tau'].mean())\n",
    "print(\"lambda_1\", trace['lambda_1'].mean())\n",
    "print(\"lambda_2\", trace['lambda_2'].mean())"
   ]
  },
  {
   "cell_type": "code",
   "execution_count": 33,
   "metadata": {
    "collapsed": false
   },
   "outputs": [
    {
     "data": {
      "text/plain": [
       "array([[<matplotlib.axes._subplots.AxesSubplot object at 0x7f199d0ea198>,\n",
       "        <matplotlib.axes._subplots.AxesSubplot object at 0x7f199cc4e630>],\n",
       "       [<matplotlib.axes._subplots.AxesSubplot object at 0x7f199cd355c0>,\n",
       "        <matplotlib.axes._subplots.AxesSubplot object at 0x7f199d564dd8>],\n",
       "       [<matplotlib.axes._subplots.AxesSubplot object at 0x7f199dd38860>,\n",
       "        <matplotlib.axes._subplots.AxesSubplot object at 0x7f199cc3d9b0>],\n",
       "       [<matplotlib.axes._subplots.AxesSubplot object at 0x7f199cbcdb70>,\n",
       "        <matplotlib.axes._subplots.AxesSubplot object at 0x7f199cbbc828>],\n",
       "       [<matplotlib.axes._subplots.AxesSubplot object at 0x7f199cb86710>,\n",
       "        <matplotlib.axes._subplots.AxesSubplot object at 0x7f199cb45748>]], dtype=object)"
      ]
     },
     "execution_count": 33,
     "metadata": {},
     "output_type": "execute_result"
    }
   ],
   "source": [
    "pm.traceplot(trace)"
   ]
  },
  {
   "cell_type": "code",
   "execution_count": 55,
   "metadata": {
    "collapsed": false
   },
   "outputs": [
    {
     "data": {
      "text/plain": [
       "[<matplotlib.lines.Line2D at 0x7f1995527828>]"
      ]
     },
     "execution_count": 55,
     "metadata": {},
     "output_type": "execute_result"
    }
   ],
   "source": [
    "tau = trace['tau'].mean()\n",
    "lambda_1 = trace['lambda_1'].mean()\n",
    "lambda_2 = trace['lambda_2'].mean()\n",
    "\n",
    "mcount = np.zeros(count_data.shape)\n",
    "mcount[:tau] = lambda_1\n",
    "mcount[tau:] = lambda_2\n",
    "\n",
    "plt.figure(figsize=(10, 6))\n",
    "count_data = np.loadtxt(\"/home/hadim/txtdata.csv\")\n",
    "plt.bar(np.arange(len(count_data)), count_data, color=\"#348ABD\", edgecolor=\"none\")\n",
    "plt.plot(mcount, lw=4, color=\"#E24A33\")"
   ]
  },
  {
   "cell_type": "code",
   "execution_count": 56,
   "metadata": {
    "collapsed": false
   },
   "outputs": [
    {
     "name": "stdout",
     "output_type": "stream",
     "text": [
      " [-----------------100%-----------------] 5000 of 5000 complete in 4.1 sec\n",
      "tau1 31.988\n",
      "tau2 43.5846\n",
      "lambda_1 20.1536361894\n",
      "lambda_2 11.2837949963\n",
      "lambda_3 22.5687064043\n"
     ]
    }
   ],
   "source": [
    "count_data = np.loadtxt(\"/home/hadim/txtdata.csv\")\n",
    "\n",
    "@theano.compile.ops.as_op(itypes=[t.lscalar, t.lscalar, t.dscalar, t.dscalar, t.dscalar], otypes=[t.dvector])\n",
    "def lambda_(tau1, tau2, lambda_1, lambda_2, lambda_3):\n",
    "    out = np.zeros(len(count_data))\n",
    "    out[:tau1] = lambda_1  # lambda before tau is lambda1\n",
    "    out[tau1:tau2] = lambda_2  # lambda before tau is lambda1\n",
    "    out[tau2:] = lambda_3  # lambda after (and including) tau is lambda2\n",
    "    return out\n",
    "\n",
    "alpha = 1.0 / count_data.mean()  # Recall count_data is the variable that holds our txt counts\n",
    "\n",
    "with pm.Model() as model:\n",
    "\n",
    "    lambda_1 = pm.Exponential(\"lambda_1\", alpha)\n",
    "    lambda_2 = pm.Exponential(\"lambda_2\", alpha)\n",
    "    lambda_3 = pm.Exponential(\"lambda_3\", alpha)\n",
    "\n",
    "    tau1 = pm.DiscreteUniform(\"tau1\", lower=0, upper=len(count_data))\n",
    "    tau2 = pm.DiscreteUniform(\"tau2\", lower=0, upper=len(count_data))\n",
    "    \n",
    "    observation = pm.Poisson(\"observation\", mu=lambda_(tau1, tau2, lambda_1, lambda_2, lambda_3),\n",
    "                             observed=count_data)\n",
    "    \n",
    "    step = pm.Metropolis()\n",
    "    trace = pm.sample(5000, step)\n",
    "    \n",
    "print()\n",
    "print(\"tau1\", trace['tau1'].mean())\n",
    "print(\"tau2\", trace['tau2'].mean())\n",
    "\n",
    "print(\"lambda_1\", trace['lambda_1'].mean())\n",
    "print(\"lambda_2\", trace['lambda_2'].mean())\n",
    "print(\"lambda_3\", trace['lambda_3'].mean())"
   ]
  },
  {
   "cell_type": "code",
   "execution_count": 41,
   "metadata": {
    "collapsed": false
   },
   "outputs": [
    {
     "data": {
      "text/plain": [
       "array([[<matplotlib.axes._subplots.AxesSubplot object at 0x7f199795b0f0>,\n",
       "        <matplotlib.axes._subplots.AxesSubplot object at 0x7f19974199b0>],\n",
       "       [<matplotlib.axes._subplots.AxesSubplot object at 0x7f19976ddb70>,\n",
       "        <matplotlib.axes._subplots.AxesSubplot object at 0x7f19973924a8>],\n",
       "       [<matplotlib.axes._subplots.AxesSubplot object at 0x7f199735b668>,\n",
       "        <matplotlib.axes._subplots.AxesSubplot object at 0x7f199731a5f8>],\n",
       "       [<matplotlib.axes._subplots.AxesSubplot object at 0x7f19972e36d8>,\n",
       "        <matplotlib.axes._subplots.AxesSubplot object at 0x7f199729e3c8>],\n",
       "       [<matplotlib.axes._subplots.AxesSubplot object at 0x7f19972654a8>,\n",
       "        <matplotlib.axes._subplots.AxesSubplot object at 0x7f1997225128>],\n",
       "       [<matplotlib.axes._subplots.AxesSubplot object at 0x7f19971ef400>,\n",
       "        <matplotlib.axes._subplots.AxesSubplot object at 0x7f19971b74e0>],\n",
       "       [<matplotlib.axes._subplots.AxesSubplot object at 0x7f1997171e10>,\n",
       "        <matplotlib.axes._subplots.AxesSubplot object at 0x7f199713add8>],\n",
       "       [<matplotlib.axes._subplots.AxesSubplot object at 0x7f19970ff630>,\n",
       "        <matplotlib.axes._subplots.AxesSubplot object at 0x7f19970cacc0>]], dtype=object)"
      ]
     },
     "execution_count": 41,
     "metadata": {},
     "output_type": "execute_result"
    }
   ],
   "source": [
    "pm.traceplot(trace)"
   ]
  },
  {
   "cell_type": "code",
   "execution_count": 57,
   "metadata": {
    "collapsed": false
   },
   "outputs": [
    {
     "data": {
      "text/plain": [
       "[<matplotlib.lines.Line2D at 0x7f1995391ef0>]"
      ]
     },
     "execution_count": 57,
     "metadata": {},
     "output_type": "execute_result"
    }
   ],
   "source": [
    "tau1 = trace['tau1'].mean()\n",
    "tau2 = trace['tau2'].mean()\n",
    "lambda_1 = trace['lambda_1'].mean()\n",
    "lambda_2 = trace['lambda_2'].mean()\n",
    "lambda_3 = trace['lambda_3'].mean()\n",
    "\n",
    "mcount = np.zeros(count_data.shape)\n",
    "mcount[:tau1] = lambda_1\n",
    "mcount[tau1:tau2] = lambda_2\n",
    "mcount[tau2:] = lambda_3\n",
    "\n",
    "plt.figure(figsize=(10, 6))\n",
    "count_data = np.loadtxt(\"/home/hadim/txtdata.csv\")\n",
    "plt.bar(np.arange(len(count_data)), count_data, color=\"#348ABD\", edgecolor=\"none\")\n",
    "plt.plot(mcount, lw=4, color=\"#E24A33\")"
   ]
  }
 ],
 "metadata": {
  "kernelspec": {
   "display_name": "Python 3",
   "language": "python",
   "name": "python3"
  },
  "language_info": {
   "codemirror_mode": {
    "name": "ipython",
    "version": 3
   },
   "file_extension": ".py",
   "mimetype": "text/x-python",
   "name": "python",
   "nbconvert_exporter": "python",
   "pygments_lexer": "ipython3",
   "version": "3.4.3"
  }
 },
 "nbformat": 4,
 "nbformat_minor": 0
}
